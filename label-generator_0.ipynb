{
 "cells": [
  {
   "cell_type": "code",
   "execution_count": 12,
   "metadata": {},
   "outputs": [
    {
     "ename": "NameError",
     "evalue": "name 'SpatialReference' is not defined",
     "output_type": "error",
     "traceback": [
      "\u001b[0;31m---------------------------------------------------------------------------\u001b[0m",
      "\u001b[0;31mNameError\u001b[0m                                 Traceback (most recent call last)",
      "Cell \u001b[0;32mIn[12], line 2\u001b[0m\n\u001b[1;32m      1\u001b[0m \u001b[38;5;28;01mimport\u001b[39;00m \u001b[38;5;21;01mosgeo\u001b[39;00m\n\u001b[0;32m----> 2\u001b[0m srs \u001b[38;5;241m=\u001b[39m \u001b[43mSpatialReference\u001b[49m()\n\u001b[1;32m      3\u001b[0m \u001b[38;5;28;01mif\u001b[39;00m \u001b[38;5;28mint\u001b[39m(osgeo\u001b[38;5;241m.\u001b[39m__version__[\u001b[38;5;241m0\u001b[39m]) \u001b[38;5;241m>\u001b[39m\u001b[38;5;241m=\u001b[39m \u001b[38;5;241m3\u001b[39m:\n\u001b[1;32m      4\u001b[0m     \u001b[38;5;66;03m# GDAL 3 changes axis order: https://github.com/OSGeo/gdal/issues/1546\u001b[39;00m\n\u001b[1;32m      5\u001b[0m     srs\u001b[38;5;241m.\u001b[39mSetAxisMappingStrategy(osgeo\u001b[38;5;241m.\u001b[39mosr\u001b[38;5;241m.\u001b[39mOAMS_TRADITIONAL_GIS_ORDER)\n",
      "\u001b[0;31mNameError\u001b[0m: name 'SpatialReference' is not defined"
     ]
    }
   ],
   "source": [
    "import osgeo\n",
    "srs = SpatialReference()\n"
   ]
  },
  {
   "cell_type": "code",
   "execution_count": 5,
   "metadata": {},
   "outputs": [
    {
     "data": {
      "text/plain": [
       "'3.7.0'"
      ]
     },
     "execution_count": 5,
     "metadata": {},
     "output_type": "execute_result"
    }
   ],
   "source": [
    "osgeo.__version__"
   ]
  },
  {
   "cell_type": "code",
   "execution_count": 13,
   "metadata": {},
   "outputs": [],
   "source": [
    "import os\n",
    "from osgeo import gdal, ogr, osr\n",
    "from sklearn.model_selection import train_test_split\n",
    "import numpy as np\n",
    "\n",
    "gdal.UseExceptions()"
   ]
  },
  {
   "cell_type": "code",
   "execution_count": 14,
   "metadata": {},
   "outputs": [],
   "source": [
    "source = gdal.Open(\n",
    "    \"/vsicurl/https://sentinel-cogs.s3.us-west-2.amazonaws.com/sentinel-s2-l2a-cogs/10/T/FK/2021/7/S2B_10TFK_20210713_0_L2A/SCL.tif\"\n",
    ")\n",
    "\n",
    "scl = source.GetRasterBand(1)"
   ]
  },
  {
   "cell_type": "code",
   "execution_count": 19,
   "metadata": {},
   "outputs": [],
   "source": [
    "def pixel_to_coords(source, x, y):\n",
    "    \"\"\"Returns global coordinates in EPSG:4326 from pixel x, y coords\"\"\"\n",
    "\n",
    "    geo_transform = source.GetGeoTransform()\n",
    "    print(geo_transform)\n",
    "    \n",
    "    x_min = geo_transform[0]\n",
    "    x_size = geo_transform[1]\n",
    "    y_min = geo_transform[3]\n",
    "    y_size = geo_transform[5]\n",
    "    px = x * x_size + x_min\n",
    "    py = y * y_size + y_min\n",
    "\n",
    "    srs = osr.SpatialReference()\n",
    "    \n",
    "    if int(osgeo.__version__[0]) >= 3:\n",
    "        # GDAL 3 changes axis order: https://github.com/OSGeo/gdal/issues/1546\n",
    "        srs.SetAxisMappingStrategy(osgeo.osr.OAMS_TRADITIONAL_GIS_ORDER)\n",
    "    \n",
    "    srs.ImportFromWkt(source.GetProjection())\n",
    "\n",
    "    srs_4326 = srs.CloneGeogCS()\n",
    "    ct = osr.CoordinateTransformation(srs, srs_4326)\n",
    "\n",
    "    long, lat, _ = ct.TransformPoint(px, py)\n",
    "\n",
    "    return long, lat"
   ]
  },
  {
   "cell_type": "code",
   "execution_count": 20,
   "metadata": {},
   "outputs": [
    {
     "data": {
      "text/plain": [
       "(600000.0, 20.0, 0.0, 4500000.0, 0.0, -20.0)"
      ]
     },
     "execution_count": 20,
     "metadata": {},
     "output_type": "execute_result"
    }
   ],
   "source": [
    "source.GetGeoTransform()"
   ]
  },
  {
   "cell_type": "code",
   "execution_count": 21,
   "metadata": {},
   "outputs": [
    {
     "name": "stdout",
     "output_type": "stream",
     "text": [
      "(600000.0, 20.0, 0.0, 4500000.0, 0.0, -20.0)\n"
     ]
    },
    {
     "data": {
      "text/plain": [
       "(-121.79397555246852, 40.626541370770724)"
      ]
     },
     "execution_count": 21,
     "metadata": {},
     "output_type": "execute_result"
    }
   ],
   "source": [
    "# os.environ[\"GDAL_DATA\"] = \"/opt/conda/envs/env_label/share/gdal\"\n",
    "pixel_to_coords(source, 100, 100)"
   ]
  },
  {
   "cell_type": "code",
   "execution_count": null,
   "metadata": {},
   "outputs": [],
   "source": [
    "np.random.seed(42)\n",
    "xy = np.random.randint(1, 5490, size=(500, 2))"
   ]
  },
  {
   "cell_type": "code",
   "execution_count": null,
   "metadata": {},
   "outputs": [],
   "source": [
    "x_values = []\n",
    "y_values = []\n",
    "\n",
    "for pos in xy:\n",
    "    x_values.append([*pixel_to_coords(source, pos[0], pos[1])])\n",
    "\n",
    "    y_values.append(\n",
    "        int(\n",
    "            scl.ReadAsArray(\n",
    "                xoff=int(pos[0]), yoff=int(pos[1]), win_xsize=1, win_ysize=1\n",
    "            )[0][0]\n",
    "        )\n",
    "    )\n",
    "# x_values"
   ]
  },
  {
   "cell_type": "code",
   "execution_count": null,
   "metadata": {},
   "outputs": [],
   "source": [
    "# Get all pixels and SCL values\n",
    "# x_values = []\n",
    "# y_values = []\n",
    "# for px in range(0, 5490, 200):\n",
    "#     for py in range(0, 5490, 200):\n",
    "#         x_values.append([*pixel_to_coords(source, px, py)])\n",
    "#         y_values.append(int(scl.ReadAsArray(px, py, 1, 1)[0][0]))"
   ]
  },
  {
   "cell_type": "code",
   "execution_count": null,
   "metadata": {},
   "outputs": [],
   "source": []
  },
  {
   "cell_type": "code",
   "execution_count": null,
   "metadata": {},
   "outputs": [],
   "source": [
    "np.array(y_values).shape"
   ]
  },
  {
   "cell_type": "code",
   "execution_count": null,
   "metadata": {},
   "outputs": [],
   "source": [
    "x_train, x_rem, y_train, y_rem = train_test_split(\n",
    "    np.array(x_values), np.array(y_values), train_size=0.8\n",
    ")"
   ]
  },
  {
   "cell_type": "code",
   "execution_count": null,
   "metadata": {},
   "outputs": [],
   "source": [
    "x_valid, x_test, y_valid, y_test = train_test_split(\n",
    "    np.array(x_rem), np.array(y_rem), test_size=0.5\n",
    ")"
   ]
  },
  {
   "cell_type": "code",
   "execution_count": null,
   "metadata": {},
   "outputs": [],
   "source": [
    "x_valid.shape, x_train.shape, x_test.shape"
   ]
  },
  {
   "cell_type": "code",
   "execution_count": null,
   "metadata": {},
   "outputs": [],
   "source": [
    "y_valid.shape, y_train.shape, y_test.shape"
   ]
  },
  {
   "cell_type": "code",
   "execution_count": null,
   "metadata": {},
   "outputs": [],
   "source": [
    "y_valid"
   ]
  },
  {
   "cell_type": "code",
   "execution_count": null,
   "metadata": {},
   "outputs": [],
   "source": [
    "def to_geojson(t, x, y):\n",
    "    \"\"\"Converts the given x, y, and split dataset type (train, test, validate ) to a geojson file\n",
    "    The geojson file is saved in the current directory with the name label-{t}.geojson\n",
    "    \"\"\"\n",
    "\n",
    "    field_name = \"class\"\n",
    "    field_type = ogr.OFTInteger\n",
    "\n",
    "    # Create the output Driver\n",
    "    out_driver = ogr.GetDriverByName(\"GeoJSON\")\n",
    "\n",
    "    geojson_filename = f\"label-{t}.geojson\"\n",
    "    # Create the output GeoJSON\n",
    "    out_datasource = out_driver.CreateDataSource(geojson_filename)\n",
    "    out_layer = out_datasource.CreateLayer(\"labels\", geom_type=ogr.wkbPolygon)\n",
    "    id_field = ogr.FieldDefn(field_name, field_type)\n",
    "    out_layer.CreateField(id_field)\n",
    "    # Get the output Layer's Feature Definition\n",
    "    feature_def = out_layer.GetLayerDefn()\n",
    "\n",
    "    for index, v in enumerate(y):\n",
    "        point = ogr.Geometry(ogr.wkbPoint)\n",
    "        point.AddPoint(x[index][0], x[index][1])\n",
    "\n",
    "        # create a new feature\n",
    "        out_feature = ogr.Feature(feature_def)\n",
    "\n",
    "        # Set new geometry\n",
    "        out_feature.SetGeometry(point)\n",
    "\n",
    "        out_feature.SetField(field_name, int(v))\n",
    "        # Add new feature to output Layer\n",
    "        out_layer.CreateFeature(out_feature)\n",
    "\n",
    "        # dereference the feature\n",
    "        out_feature = None\n",
    "\n",
    "    # Save and close DataSources\n",
    "    out_datasource = None"
   ]
  },
  {
   "cell_type": "code",
   "execution_count": null,
   "metadata": {},
   "outputs": [],
   "source": [
    "to_geojson(\"train_0\", x_train, y_train)\n",
    "# to_geojson(\"test\", x_test, y_test)\n",
    "# to_geojson(\"validate\", x_valid, y_valid)"
   ]
  },
  {
   "cell_type": "code",
   "execution_count": null,
   "metadata": {},
   "outputs": [],
   "source": []
  }
 ],
 "metadata": {
  "kernelspec": {
   "display_name": "Python [conda env:.conda-env_labels]",
   "language": "python",
   "name": "conda-env-.conda-env_labels-py"
  },
  "language_info": {
   "codemirror_mode": {
    "name": "ipython",
    "version": 3
   },
   "file_extension": ".py",
   "mimetype": "text/x-python",
   "name": "python",
   "nbconvert_exporter": "python",
   "pygments_lexer": "ipython3",
   "version": "3.11.4"
  }
 },
 "nbformat": 4,
 "nbformat_minor": 4
}
