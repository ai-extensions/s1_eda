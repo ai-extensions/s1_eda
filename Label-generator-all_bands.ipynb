{
 "cells": [
  {
   "cell_type": "code",
   "execution_count": null,
   "metadata": {},
   "outputs": [],
   "source": [
    "import os\n",
    "from osgeo import gdal, ogr, osr\n",
    "from sklearn.model_selection import train_test_split\n",
    "import numpy as np\n",
    "import pandas as pd\n",
    "import osgeo\n",
    "import copy\n",
    "\n",
    "gdal.UseExceptions()"
   ]
  },
  {
   "cell_type": "code",
   "execution_count": null,
   "metadata": {},
   "outputs": [],
   "source": [
    "os.environ['PROJ_DATA']='/workspace/.conda/envs/env_labels/share/proj' \n",
    "# os.environ['GDAL_DATA']='/workspace/.conda/envs/env_labels/share/gdal'\n",
    "# os.environ['GTIFF_SRS_SOURCE'] = 'EPSG'"
   ]
  },
  {
   "cell_type": "code",
   "execution_count": null,
   "metadata": {},
   "outputs": [],
   "source": [
    "import pystac\n",
    "from pystac import Link, Asset\n",
    "from pystac.extensions.label import LabelExtension\n",
    "from pystac.extensions.label import LabelType\n",
    "from pystac.extensions.label import LabelClasses\n",
    "from pystac.extensions.label import LabelStatistics\n",
    "from pystac.extensions.version import ItemVersionExtension"
   ]
  },
  {
   "cell_type": "code",
   "execution_count": null,
   "metadata": {},
   "outputs": [],
   "source": []
  },
  {
   "cell_type": "code",
   "execution_count": null,
   "metadata": {},
   "outputs": [],
   "source": [
    "# Set dataframe to None \n",
    "df = None"
   ]
  },
  {
   "cell_type": "code",
   "execution_count": null,
   "metadata": {},
   "outputs": [],
   "source": [
    "def pixel_to_coords(source, x, y):\n",
    "    \"\"\"Returns global coordinates in EPSG:4326 from pixel x, y coords\"\"\"\n",
    "\n",
    "    geo_transform = source.GetGeoTransform()\n",
    "\n",
    "    x_min = geo_transform[0]\n",
    "    x_size = geo_transform[1]\n",
    "    y_min = geo_transform[3]\n",
    "    y_size = geo_transform[5]\n",
    "    px = x * x_size + x_min\n",
    "    py = y * y_size + y_min\n",
    "\n",
    "    srs = osr.SpatialReference()\n",
    "    \n",
    "    # GDAL 3 changes axis order: https://github.com/OSGeo/gdal/issues/1546\n",
    "    if int(osgeo.__version__[0]) >= 3:\n",
    "        srs.SetAxisMappingStrategy(osgeo.osr.OAMS_TRADITIONAL_GIS_ORDER)\n",
    "    \n",
    "    srs.ImportFromWkt(source.GetProjection())\n",
    "\n",
    "    srs_4326 = srs.CloneGeogCS()\n",
    "    ct = osr.CoordinateTransformation(srs, srs_4326)\n",
    "\n",
    "    long, lat, _ = ct.TransformPoint(px, py)\n",
    "\n",
    "    return long, lat"
   ]
  },
  {
   "cell_type": "markdown",
   "metadata": {},
   "source": [
    "## Read STAC Item"
   ]
  },
  {
   "cell_type": "code",
   "execution_count": null,
   "metadata": {},
   "outputs": [],
   "source": [
    "aws_url = \"https://earth-search.aws.element84.com/v0/collections/sentinel-s2-l2a-cogs/items/S2B_10TFK_20210713_0_L2A\"\n",
    "item = pystac.read_file(aws_url)\n",
    "display(item.properties)"
   ]
  },
  {
   "cell_type": "code",
   "execution_count": null,
   "metadata": {},
   "outputs": [],
   "source": [
    "print(f'Available bands: {list(item.assets.keys())}')"
   ]
  },
  {
   "cell_type": "markdown",
   "metadata": {},
   "source": [
    "## Extract values of selected band(s) for a defined random number of pixels\n",
    "Select a band with highest resolution, ie `B02`, `B03`, `B04`, `B08`."
   ]
  },
  {
   "cell_type": "code",
   "execution_count": null,
   "metadata": {},
   "outputs": [],
   "source": [
    "high_res_bands = ['B02', 'B03', 'B04', 'B08']"
   ]
  },
  {
   "cell_type": "code",
   "execution_count": null,
   "metadata": {},
   "outputs": [],
   "source": [
    "band = 'B04' # 'B04'\n",
    "assert band in high_res_bands, f'choose high res. band, ie {high_res_bands}'"
   ]
  },
  {
   "cell_type": "code",
   "execution_count": null,
   "metadata": {},
   "outputs": [],
   "source": [
    "print('Band:', band)\n",
    "print(f'- Res: {item.assets[band].to_dict()[\"proj:transform\"][0]}m')\n",
    "# Extract band\n",
    "b_href = item.assets[band].href\n",
    "print('- href:', b_href)\n",
    "\n",
    "# Get gdal object\n",
    "b_g_10m = gdal.Open(b_href)\n",
    "# b_rst = b_g.GetRasterBand(1)\n",
    "\n",
    "# # Get array\n",
    "# b_arr = b_rst.ReadAsArray()\n",
    "# print('- Shape:', np.shape(b_arr))\n",
    "# # n_cl = len(np.unique(b_arr))\n",
    "# # print(f'- Number of LC classes: {n_cl}')"
   ]
  },
  {
   "cell_type": "code",
   "execution_count": null,
   "metadata": {},
   "outputs": [],
   "source": [
    "# Run the function for testing\n",
    "assert pixel_to_coords(b_g_10m, 100, 100) == (-121.8056363767779, 40.63567108385486)"
   ]
  },
  {
   "cell_type": "markdown",
   "metadata": {
    "tags": []
   },
   "source": [
    "### Generate (fixed) random sample of image coordinates "
   ]
  },
  {
   "cell_type": "code",
   "execution_count": null,
   "metadata": {},
   "outputs": [],
   "source": [
    "# Define number of pixels \n",
    "no_pixels = 500 \n",
    "np.random.seed(42) # keep this fixed \n",
    "\n",
    "# Generate array representing the pair of coordinates \n",
    "# xy = np.random.randint(1, np.shape(b_arr)[0], size=(no_pixels, 2))\n",
    "xy = np.random.randint(1, 10980, size=(no_pixels, 2))\n",
    "\n",
    "xy[:5]"
   ]
  },
  {
   "cell_type": "markdown",
   "metadata": {},
   "source": [
    "### Extract values of a specific band for each pair of coordinates"
   ]
  },
  {
   "cell_type": "code",
   "execution_count": null,
   "metadata": {},
   "outputs": [],
   "source": [
    "band = 'SCL'"
   ]
  },
  {
   "cell_type": "code",
   "execution_count": null,
   "metadata": {},
   "outputs": [],
   "source": [
    "print('Working on band:', band)\n",
    "\n",
    "# Open gdal object and get raster band\n",
    "b_g = gdal.Open(item.assets[band].href)\n",
    "b_rst = b_g.GetRasterBand(1)"
   ]
  },
  {
   "cell_type": "code",
   "execution_count": null,
   "metadata": {},
   "outputs": [],
   "source": [
    "print('Extracting values')\n",
    "x_values = []\n",
    "y_values = []\n",
    "\n",
    "if b_g.GetGeoTransform()[1] == 10:\n",
    "    print(\"res = 10m, no need to rescale\")\n",
    "    \n",
    "    for pos in xy:\n",
    "\n",
    "        x_values.append([*pixel_to_coords(b_g_10m, pos[0], pos[1])])\n",
    "\n",
    "        y_values.append(\n",
    "            int(\n",
    "                b_rst.ReadAsArray(\n",
    "                    xoff=int(pos[0]), yoff=int(pos[1]), win_xsize=1, win_ysize=1\n",
    "                )[0][0]\n",
    "            )\n",
    "        )\n",
    "\n",
    "elif b_g.GetGeoTransform()[1] == 20:\n",
    "    print(\"Rescaling to res = 20m\")\n",
    "    \n",
    "    # Need to find the pixel index of the raster which shape is half the size of the high res band, so need to divide by a factor of 2\n",
    "    xy2 = np.round(xy/2, 0)\n",
    "    \n",
    "    for pos,pos2 in zip(xy,xy2):\n",
    "\n",
    "        x_values.append([*pixel_to_coords(b_g_10m, pos[0], pos[1])]) # b_g must be the same as the pair of coordinates must be the same for all bands \n",
    "\n",
    "        y_values.append(\n",
    "            int(\n",
    "                b_rst.ReadAsArray(\n",
    "                    xoff=int(pos2[0]), yoff=int(pos2[1]), win_xsize=1, win_ysize=1\n",
    "                )[0][0]\n",
    "            )\n",
    "        )\n",
    "\n",
    "# Empty b_rst\n",
    "b_rst = None\n",
    "\n",
    "print(x_values[:10])\n",
    "print(y_values[:10])"
   ]
  },
  {
   "cell_type": "code",
   "execution_count": null,
   "metadata": {},
   "outputs": [],
   "source": []
  },
  {
   "cell_type": "markdown",
   "metadata": {},
   "source": [
    "## Make Pandas dataframe\n",
    "**Note**: The *pandas* dataframe will be used as input for the EDA Notebook from the ARSET training."
   ]
  },
  {
   "cell_type": "code",
   "execution_count": null,
   "metadata": {},
   "outputs": [],
   "source": [
    "# make dictionary\n",
    "data = {'long': [x[0] for x in x_values], \n",
    "        'lat': [x[1] for x in x_values], \n",
    "        band: y_values}\n",
    "# data"
   ]
  },
  {
   "cell_type": "code",
   "execution_count": null,
   "metadata": {},
   "outputs": [],
   "source": [
    "if df is None: \n",
    "    print('Creating Dataframe')\n",
    "    # Create a DataFrame from the dictionary\n",
    "    df = pd.DataFrame(data)\n",
    "    df.index.name = 'Index'\n",
    "    \n",
    "    # Create backup\n",
    "    data_bk = copy.deepcopy(df)\n",
    "\n",
    "else: \n",
    "    print('Adding to existing Dataframe')\n",
    "    \n",
    "    # Create temp dataframe\n",
    "    df2 = pd.DataFrame(data)\n",
    "    df2.index.name = 'Index'\n",
    "    \n",
    "    # Assert the two dataframes have the same long and lat values\n",
    "    assert df['long'].isin(df2['long']).value_counts().values[0] == no_pixels\n",
    "    assert df['lat'].isin(df2['lat']).value_counts().values[0] == no_pixels\n",
    "    \n",
    "    # Merge temp dataframe with original dataframe, based on matching columns\n",
    "    df = pd.merge(df, df2, on=['Index', 'long', 'lat'])   \n",
    "    # Empty memory\n",
    "    df2 = None\n",
    "    \n",
    "display(df)"
   ]
  },
  {
   "cell_type": "code",
   "execution_count": null,
   "metadata": {},
   "outputs": [],
   "source": [
    "# # Export dataframe \n",
    "# df.to_csv('dataframe_multiband.csv')"
   ]
  },
  {
   "cell_type": "markdown",
   "metadata": {},
   "source": [
    "## Split dataset into train and validation"
   ]
  },
  {
   "cell_type": "code",
   "execution_count": null,
   "metadata": {},
   "outputs": [],
   "source": [
    "def to_geojson(t, x, y):\n",
    "    \"\"\"Converts the given x, y, and split dataset type (train, test, validate ) to a geojson file\n",
    "    The geojson file is saved in the current directory with the name label-{t}.geojson\n",
    "    \"\"\"\n",
    "\n",
    "    field_name = \"class\"\n",
    "    field_type = ogr.OFTInteger\n",
    "\n",
    "    # Create the output Driver\n",
    "    out_driver = ogr.GetDriverByName(\"GeoJSON\")\n",
    "\n",
    "    geojson_filename = f\"label-{t}.geojson\"\n",
    "    # Create the output GeoJSON\n",
    "    out_datasource = out_driver.CreateDataSource(geojson_filename)\n",
    "    out_layer = out_datasource.CreateLayer(\"labels\", geom_type=ogr.wkbPolygon)\n",
    "    id_field = ogr.FieldDefn(field_name, field_type)\n",
    "    out_layer.CreateField(id_field)\n",
    "    # Get the output Layer's Feature Definition\n",
    "    feature_def = out_layer.GetLayerDefn()\n",
    "\n",
    "    for index, v in enumerate(y):\n",
    "        point = ogr.Geometry(ogr.wkbPoint)\n",
    "        point.AddPoint(x[index][0], x[index][1])\n",
    "\n",
    "        # create a new feature\n",
    "        out_feature = ogr.Feature(feature_def)\n",
    "\n",
    "        # Set new geometry\n",
    "        out_feature.SetGeometry(point)\n",
    "\n",
    "        out_feature.SetField(field_name, int(v))\n",
    "        # Add new feature to output Layer\n",
    "        out_layer.CreateFeature(out_feature)\n",
    "\n",
    "        # dereference the feature\n",
    "        out_feature = None\n",
    "\n",
    "    # Save and close DataSources\n",
    "    out_datasource = None"
   ]
  },
  {
   "cell_type": "markdown",
   "metadata": {},
   "source": [
    "### Test with 1 variable "
   ]
  },
  {
   "cell_type": "code",
   "execution_count": null,
   "metadata": {},
   "outputs": [],
   "source": [
    "x_values[:10]"
   ]
  },
  {
   "cell_type": "code",
   "execution_count": null,
   "metadata": {},
   "outputs": [],
   "source": [
    "y_values[:10]"
   ]
  },
  {
   "cell_type": "code",
   "execution_count": null,
   "metadata": {},
   "outputs": [],
   "source": [
    "assert len(x_values) == len(y_values)\n",
    "print(len(x_values), len(y_values))"
   ]
  },
  {
   "cell_type": "code",
   "execution_count": null,
   "metadata": {},
   "outputs": [],
   "source": [
    "x_train, x_rem, y_train, y_rem = train_test_split(\n",
    "    np.array(x_values), np.array(y_values), train_size=0.8\n",
    ")\n",
    "print(len(x_train),len(y_train))\n",
    "print(len(x_rem),len(y_rem))"
   ]
  },
  {
   "cell_type": "code",
   "execution_count": null,
   "metadata": {},
   "outputs": [],
   "source": [
    "x_valid, x_test, y_valid, y_test = train_test_split(\n",
    "    np.array(x_rem), np.array(y_rem), test_size=0.5\n",
    ")\n",
    "print(len(x_valid),len(y_valid))\n",
    "print(len(x_test),len(y_test))"
   ]
  },
  {
   "cell_type": "code",
   "execution_count": null,
   "metadata": {},
   "outputs": [],
   "source": [
    "x_valid.shape, x_train.shape, x_test.shape"
   ]
  },
  {
   "cell_type": "code",
   "execution_count": null,
   "metadata": {},
   "outputs": [],
   "source": [
    "y_valid.shape, y_train.shape, y_test.shape"
   ]
  },
  {
   "cell_type": "code",
   "execution_count": null,
   "metadata": {},
   "outputs": [],
   "source": [
    "to_geojson(f\"train\", x_train, y_train)\n",
    "# to_geojson(f\"test\", x_test, y_test)\n",
    "# to_geojson(f\"validate\", x_valid, y_valid)"
   ]
  },
  {
   "cell_type": "code",
   "execution_count": null,
   "metadata": {},
   "outputs": [],
   "source": []
  },
  {
   "cell_type": "code",
   "execution_count": null,
   "metadata": {},
   "outputs": [],
   "source": []
  },
  {
   "cell_type": "markdown",
   "metadata": {},
   "source": [
    "### Test with multiple variables (one geojson per variable)"
   ]
  },
  {
   "cell_type": "code",
   "execution_count": null,
   "metadata": {},
   "outputs": [],
   "source": [
    "# Read CSV file and make pandas dataframe\n",
    "df_pandas = pd.read_csv('dataframe_multiband.csv')\n",
    "df_pandas"
   ]
  },
  {
   "cell_type": "code",
   "execution_count": null,
   "metadata": {},
   "outputs": [],
   "source": [
    "y_names = ['B02', 'B03', 'B04', 'B08', 'SCL']"
   ]
  },
  {
   "cell_type": "code",
   "execution_count": null,
   "metadata": {},
   "outputs": [],
   "source": [
    "for y_name in y_names:\n",
    "    print('Working on:', y_name)\n",
    "    \n",
    "    y_values = df_pandas[y_name].values\n",
    "    assert len(x_values) == len(y_values)\n",
    "    print('Total # of values:', len(x_values), len(y_values))\n",
    "    \n",
    "    # Training \n",
    "    x_train, x_rem, y_train, y_rem = train_test_split(\n",
    "        np.array(x_values), np.array(y_values), train_size=0.8\n",
    "    )\n",
    "    print('# used for training:', len(x_train),len(y_train))\n",
    "    print('# residuals:', len(x_rem),len(y_rem))\n",
    "    \n",
    "    # Testing and Validation\n",
    "    x_valid, x_test, y_valid, y_test = train_test_split(\n",
    "        np.array(x_rem), np.array(y_rem), test_size=0.5\n",
    "    )\n",
    "    print('# used for validation:', len(x_valid),len(y_valid))\n",
    "    print('# used for testing:', len(x_test),len(y_test))\n",
    "    \n",
    "    print('x_shapes:', x_valid.shape, x_train.shape, x_test.shape)\n",
    "    print('y_shapes:', y_valid.shape, y_train.shape, y_test.shape)\n",
    "    \n",
    "    # Now creating the geojson files\n",
    "    to_geojson(f\"train_{y_name}\", x_train, y_train)\n",
    "    # to_geojson(f\"test_{y_name}\", x_test, y_test)\n",
    "    # to_geojson(f\"validate_{y_name}\", x_valid, y_valid)\n",
    "    print()"
   ]
  },
  {
   "cell_type": "code",
   "execution_count": null,
   "metadata": {},
   "outputs": [],
   "source": []
  },
  {
   "cell_type": "markdown",
   "metadata": {},
   "source": [
    "### Test with multiple variables in unique geojson"
   ]
  },
  {
   "cell_type": "code",
   "execution_count": null,
   "metadata": {},
   "outputs": [],
   "source": [
    "df_pandas"
   ]
  },
  {
   "cell_type": "code",
   "execution_count": null,
   "metadata": {},
   "outputs": [],
   "source": [
    "y_val = df_pandas['SCL']#.values"
   ]
  },
  {
   "cell_type": "code",
   "execution_count": null,
   "metadata": {},
   "outputs": [],
   "source": [
    "X = df_pandas[['long', 'lat', 'B02', 'B03', 'B04', 'B08']]"
   ]
  },
  {
   "cell_type": "code",
   "execution_count": null,
   "metadata": {
    "tags": []
   },
   "outputs": [],
   "source": [
    "# Training (directly from dataframe)\n",
    "\n",
    "# x_train, x_rem, y_train, y_rem = train_test_split(\n",
    "#         np.array(x_values), np.array(y_values), train_size=0.8\n",
    "#     )\n",
    "\n",
    "long_train, long_rem, lat_train, lat_rem, B02_train, B02_rem, B03_train, B03_rem, B04_train, B04_rem, B08_train, B08_rem, SCL_train, SCL_rem = train_test_split(X['long'], X['lat'], X['B02'], X['B03'], X['B04'], X['B08'], y_val, train_size=0.8, random_state=42)\n",
    "print('# used for training:', len(long_train))\n",
    "print('# residuals:', len(long_rem))"
   ]
  },
  {
   "cell_type": "code",
   "execution_count": null,
   "metadata": {},
   "outputs": [],
   "source": [
    "# Testing and Validation\n",
    "\n",
    "# x_valid, x_test, y_valid, y_test = train_test_split(\n",
    "#     np.array(x_rem), np.array(y_rem), test_size=0.5\n",
    "# )\n",
    "\n",
    "long_valid, long_test, lat_valid, lat_test, B02_valid, B02_test, B03_valid, B03_test, B04_valid, B04_test, B08_valid, B08_test, SCL_valid, SCL_test = train_test_split(long_rem, lat_rem, B02_rem, B03_rem, B04_rem, B08_rem, SCL_rem, train_size=0.5)\n",
    "\n",
    "print('# used for validation:', len(long_valid))\n",
    "print('# used for testing:', len(long_test))"
   ]
  },
  {
   "cell_type": "code",
   "execution_count": null,
   "metadata": {},
   "outputs": [],
   "source": []
  },
  {
   "cell_type": "code",
   "execution_count": null,
   "metadata": {},
   "outputs": [],
   "source": []
  },
  {
   "cell_type": "code",
   "execution_count": null,
   "metadata": {},
   "outputs": [],
   "source": []
  },
  {
   "cell_type": "code",
   "execution_count": null,
   "metadata": {},
   "outputs": [],
   "source": []
  },
  {
   "cell_type": "code",
   "execution_count": null,
   "metadata": {},
   "outputs": [],
   "source": []
  }
 ],
 "metadata": {
  "kernelspec": {
   "display_name": "Python [conda env:.conda-env_eda]",
   "language": "python",
   "name": "conda-env-.conda-env_eda-py"
  },
  "language_info": {
   "codemirror_mode": {
    "name": "ipython",
    "version": 3
   },
   "file_extension": ".py",
   "mimetype": "text/x-python",
   "name": "python",
   "nbconvert_exporter": "python",
   "pygments_lexer": "ipython3",
   "version": "3.11.4"
  }
 },
 "nbformat": 4,
 "nbformat_minor": 4
}
