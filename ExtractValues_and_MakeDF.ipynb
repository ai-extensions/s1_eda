{
 "cells": [
  {
   "cell_type": "code",
   "execution_count": 1,
   "metadata": {},
   "outputs": [],
   "source": [
    "import os\n",
    "from osgeo import gdal, ogr, osr\n",
    "import pyproj\n",
    "from sklearn.model_selection import train_test_split\n",
    "import numpy as np\n",
    "import pandas as pd\n",
    "import osgeo\n",
    "import copy\n",
    "import json\n",
    "\n",
    "gdal.UseExceptions()"
   ]
  },
  {
   "cell_type": "code",
   "execution_count": 2,
   "metadata": {},
   "outputs": [],
   "source": [
    "os.environ['PROJ_DATA']='/workspace/.conda/envs/env_labels/share/proj' \n",
    "# os.environ['GDAL_DATA']='/workspace/.conda/envs/env_labels/share/gdal'\n",
    "# os.environ['GTIFF_SRS_SOURCE'] = 'EPSG'"
   ]
  },
  {
   "cell_type": "code",
   "execution_count": 3,
   "metadata": {},
   "outputs": [],
   "source": [
    "import pystac\n",
    "from pystac import Link, Asset\n",
    "from pystac.extensions.label import LabelExtension\n",
    "from pystac.extensions.label import LabelType\n",
    "from pystac.extensions.label import LabelClasses\n",
    "from pystac.extensions.label import LabelStatistics\n",
    "from pystac.extensions.version import ItemVersionExtension"
   ]
  },
  {
   "cell_type": "code",
   "execution_count": 4,
   "metadata": {},
   "outputs": [],
   "source": [
    "# Set dataframe to None \n",
    "df = None"
   ]
  },
  {
   "cell_type": "code",
   "execution_count": 5,
   "metadata": {},
   "outputs": [],
   "source": [
    "# Read GeoJSON file and extract point coordinates\n",
    "def read_geojson_coordinates(geojson_file):\n",
    "    with open(geojson_file, 'r') as file:\n",
    "        geojson_data = json.load(file)\n",
    "    #print(geojson_data['features'])\n",
    "    \n",
    "    points = []\n",
    "    for feature in geojson_data['features']:\n",
    "        if feature['geometry']['type'] == 'Point':\n",
    "            lon, lat, _ = feature['geometry']['coordinates']\n",
    "            points.append((lon, lat))\n",
    "    return points"
   ]
  },
  {
   "cell_type": "code",
   "execution_count": 32,
   "metadata": {},
   "outputs": [],
   "source": [
    "# Function to transform unprojected coordinates to projected coordinates\n",
    "def transform_coordinates(coordinates, epsg_s, epsg_t):\n",
    "    source_crs = pyproj.CRS(f'EPSG:{epsg_s}') \n",
    "    target_crs = pyproj.CRS(f'EPSG:{epsg_t}')  \n",
    "    transformer = pyproj.Transformer.from_crs(source_crs, target_crs, always_xy=True)\n",
    "    transformed_coords = [transformer.transform(lon, lat) for lon, lat in coordinates]\n",
    "    \n",
    "    transformed_coords_int = [[int(tc[0]), int(tc[1])] for tc in transformed_coords]\n",
    "    return transformed_coords_int"
   ]
  },
  {
   "cell_type": "code",
   "execution_count": 49,
   "metadata": {},
   "outputs": [],
   "source": [
    "# Function to extract pixel values from a GeoTIFF at given coordinates\n",
    "def extract_pixel_values(b_g, transformed_coords):\n",
    "    gt = b_g.GetGeoTransform()\n",
    "    b_rst = b_g.GetRasterBand(1)\n",
    "    \n",
    "    values = []\n",
    "\n",
    "    for lon, lat in transformed_coords:\n",
    "        px = int((lon - gt[0]) / gt[1])  # Convert longitude to pixel x\n",
    "        py = int((lat - gt[3]) / gt[5])  # Convert latitude to pixel y\n",
    "\n",
    "        value = b_rst.ReadAsArray(px, py, 1, 1)[0][0]\n",
    "        values.append(value)\n",
    "    \n",
    "    # Empty raster \n",
    "    b_rst = None\n",
    "    \n",
    "    return values"
   ]
  },
  {
   "cell_type": "code",
   "execution_count": null,
   "metadata": {},
   "outputs": [],
   "source": []
  },
  {
   "cell_type": "markdown",
   "metadata": {
    "tags": []
   },
   "source": [
    "# Read ML STAC Item"
   ]
  },
  {
   "cell_type": "code",
   "execution_count": 6,
   "metadata": {},
   "outputs": [],
   "source": [
    "# Define name of the ML item\n",
    "ml_item_fname = \"ml-aoi-item.json\""
   ]
  },
  {
   "cell_type": "code",
   "execution_count": 7,
   "metadata": {},
   "outputs": [
    {
     "data": {
      "text/plain": [
       "{'ml-aoi:split': 'train', 'datetime': '2023-07-26T10:45:52.749205Z'}"
      ]
     },
     "metadata": {},
     "output_type": "display_data"
    }
   ],
   "source": [
    "ml_item = pystac.read_file(ml_item_fname)\n",
    "display(ml_item.properties)"
   ]
  },
  {
   "cell_type": "markdown",
   "metadata": {},
   "source": [
    "## Load S2 scene"
   ]
  },
  {
   "cell_type": "code",
   "execution_count": 47,
   "metadata": {},
   "outputs": [
    {
     "name": "stdout",
     "output_type": "stream",
     "text": [
      "href of the S2 scene: https://earth-search.aws.element84.com/v0/collections/sentinel-s2-l2a-cogs/items/S2A_10TFK_20220524_0_L2A\n"
     ]
    }
   ],
   "source": [
    "s2_href = [l.target for l in ml_item.links if \"S2\" in l.target][0]\n",
    "print('href of the S2 scene:', s2_href)"
   ]
  },
  {
   "cell_type": "code",
   "execution_count": 48,
   "metadata": {},
   "outputs": [
    {
     "data": {
      "text/plain": [
       "{'datetime': '2022-05-24T19:03:29Z',\n",
       " 'platform': 'sentinel-2a',\n",
       " 'constellation': 'sentinel-2',\n",
       " 'instruments': ['msi'],\n",
       " 'gsd': 10,\n",
       " 'view:off_nadir': 0,\n",
       " 'proj:epsg': 32610,\n",
       " 'sentinel:utm_zone': 10,\n",
       " 'sentinel:latitude_band': 'T',\n",
       " 'sentinel:grid_square': 'FK',\n",
       " 'sentinel:sequence': '0',\n",
       " 'sentinel:product_id': 'S2A_MSIL2A_20220524T184921_N0400_R113_T10TFK_20220525T004817',\n",
       " 'sentinel:data_coverage': 100,\n",
       " 'eo:cloud_cover': 0.24,\n",
       " 'sentinel:valid_cloud_cover': True,\n",
       " 'sentinel:processing_baseline': '04.00',\n",
       " 'sentinel:boa_offset_applied': True,\n",
       " 'created': '2022-05-25T03:20:43.295Z',\n",
       " 'updated': '2022-05-25T03:20:43.295Z'}"
      ]
     },
     "metadata": {},
     "output_type": "display_data"
    }
   ],
   "source": [
    "# Read STAC Item\n",
    "s2item = pystac.read_file(s2_href)\n",
    "display(s2item.properties)"
   ]
  },
  {
   "cell_type": "code",
   "execution_count": 27,
   "metadata": {},
   "outputs": [
    {
     "name": "stdout",
     "output_type": "stream",
     "text": [
      "Available bands: ['thumbnail', 'overview', 'info', 'metadata', 'visual', 'B01', 'B02', 'B03', 'B04', 'B05', 'B06', 'B07', 'B08', 'B8A', 'B09', 'B11', 'B12', 'AOT', 'WVP', 'SCL']\n",
      "Target EPSG:32610\n"
     ]
    }
   ],
   "source": [
    "print(f'Available bands: {list(s2item.assets.keys())}')\n",
    "epsg_t = s2item.properties['proj:epsg']\n",
    "print(f'Target EPSG:{epsg_t}')"
   ]
  },
  {
   "cell_type": "markdown",
   "metadata": {},
   "source": [
    "## Load geojson points"
   ]
  },
  {
   "cell_type": "code",
   "execution_count": 8,
   "metadata": {},
   "outputs": [
    {
     "name": "stdout",
     "output_type": "stream",
     "text": [
      "href of the geojson file: label-train.geojson\n"
     ]
    }
   ],
   "source": [
    "geojson_href = ml_item.assets['label'].href\n",
    "print('href of the geojson file:', geojson_href)"
   ]
  },
  {
   "cell_type": "code",
   "execution_count": 18,
   "metadata": {
    "tags": []
   },
   "outputs": [
    {
     "data": {
      "text/plain": [
       "[(-121.27859163156747, 40.38218701036475),\n",
       " (-121.19953674120562, 39.91585786896506),\n",
       " (-121.33843034984275, 40.4972903822101),\n",
       " (-121.68743345874819, 40.07457719936124),\n",
       " (-121.26139230895694, 40.290492371933254),\n",
       " (-121.74308928683688, 40.18555755803047),\n",
       " (-120.6389470529706, 40.56726326945035),\n",
       " (-121.69538478759036, 40.44917135042127),\n",
       " (-121.5419727694332, 39.75660703796542),\n",
       " (-121.33944402091774, 39.878035273240194)]"
      ]
     },
     "execution_count": 18,
     "metadata": {},
     "output_type": "execute_result"
    }
   ],
   "source": [
    "# Open asset (geojson format) and read all the coordinates within \n",
    "coordinates = read_geojson_coordinates(geojson_href)\n",
    "coordinates[:10]"
   ]
  },
  {
   "cell_type": "code",
   "execution_count": 33,
   "metadata": {},
   "outputs": [
    {
     "data": {
      "text/plain": [
       "[[646120, 4471599],\n",
       " [653880, 4419970],\n",
       " [640800, 4484280],\n",
       " [611920, 4436859],\n",
       " [647780, 4461450],\n",
       " [607000, 4449109],\n",
       " [699869, 4493400],\n",
       " [610629, 4478430],\n",
       " [624900, 4401760],\n",
       " [641999, 4415539]]"
      ]
     },
     "execution_count": 33,
     "metadata": {},
     "output_type": "execute_result"
    }
   ],
   "source": [
    "# Transofrm coordinates\n",
    "epsg_s = '4326'\n",
    "transformed_coords = transform_coordinates(coordinates, epsg_s, epsg_t)\n",
    "transformed_coords[:10]"
   ]
  },
  {
   "cell_type": "markdown",
   "metadata": {},
   "source": [
    "## Extract values of selected band(s) for each point in the geojson file\n",
    "Select a band or a list of bands, ie ```[`B02`, `B03`, `B04`, `B08`,`SCL`]```"
   ]
  },
  {
   "cell_type": "code",
   "execution_count": 13,
   "metadata": {},
   "outputs": [],
   "source": [
    "bands = ['B02', 'B03', 'B04', 'B08', 'SCL']"
   ]
  },
  {
   "cell_type": "code",
   "execution_count": 75,
   "metadata": {},
   "outputs": [],
   "source": [
    "band = bands[3]\n",
    "assert band in list(s2item.assets.keys()), f'Band does not exist'"
   ]
  },
  {
   "cell_type": "code",
   "execution_count": null,
   "metadata": {},
   "outputs": [
    {
     "name": "stdout",
     "output_type": "stream",
     "text": [
      "Band: B08\n",
      "- Res: 10m\n",
      "- href: https://sentinel-cogs.s3.us-west-2.amazonaws.com/sentinel-s2-l2a-cogs/10/T/FK/2022/5/S2A_10TFK_20220524_0_L2A/B08.tif\n"
     ]
    }
   ],
   "source": [
    "print('Band:', band)\n",
    "print(f'- Res: {s2item.assets[band].to_dict()[\"proj:transform\"][0]}m')\n",
    "# Extract band\n",
    "b_href = s2item.assets[band].href\n",
    "print('- href:', b_href)\n",
    "\n",
    "# Get gdal object\n",
    "b_g = gdal.Open(b_href)"
   ]
  },
  {
   "cell_type": "code",
   "execution_count": null,
   "metadata": {},
   "outputs": [
    {
     "name": "stdout",
     "output_type": "stream",
     "text": [
      "Coordinate: 646120, 4471599 - Pixel Value: 1115\n",
      "Coordinate: 653880, 4419970 - Pixel Value: 1062\n",
      "Coordinate: 640800, 4484280 - Pixel Value: 1534\n",
      "Coordinate: 611920, 4436859 - Pixel Value: 1952\n",
      "Coordinate: 647780, 4461450 - Pixel Value: 1454\n",
      "Coordinate: 607000, 4449109 - Pixel Value: 2100\n",
      "Coordinate: 699869, 4493400 - Pixel Value: 2526\n",
      "Coordinate: 610629, 4478430 - Pixel Value: 2980\n",
      "Coordinate: 624900, 4401760 - Pixel Value: 2556\n",
      "Coordinate: 641999, 4415539 - Pixel Value: 1067\n"
     ]
    }
   ],
   "source": [
    "pixel_values = extract_pixel_values(b_g, transformed_coords)\n",
    "\n",
    "# print(pixel_values)\n",
    "\n",
    "# Print the extracted pixel values\n",
    "for (lon, lat), value in zip(transformed_coords[:10], pixel_values[:10]):\n",
    "    print(f\"Coordinate: {lon}, {lat} - Pixel Value: {value}\")\n",
    "\n",
    "# Empty b_g\n",
    "#b_g = None"
   ]
  },
  {
   "cell_type": "code",
   "execution_count": null,
   "metadata": {},
   "outputs": [],
   "source": []
  },
  {
   "cell_type": "markdown",
   "metadata": {},
   "source": [
    "## Make Pandas dataframe\n",
    "**Note**: The *pandas* dataframe will be used as input for the EDA Notebook from the ARSET training."
   ]
  },
  {
   "cell_type": "code",
   "execution_count": null,
   "metadata": {},
   "outputs": [],
   "source": [
    "# make dictionary\n",
    "data = {'long': [x[0] for x in transformed_coords], \n",
    "        'lat': [x[1] for x in transformed_coords], \n",
    "        band: pixel_values}\n",
    "# data"
   ]
  },
  {
   "cell_type": "code",
   "execution_count": 83,
   "metadata": {},
   "outputs": [
    {
     "name": "stdout",
     "output_type": "stream",
     "text": [
      "Adding to existing Dataframe\n"
     ]
    },
    {
     "data": {
      "text/html": [
       "<div>\n",
       "<style scoped>\n",
       "    .dataframe tbody tr th:only-of-type {\n",
       "        vertical-align: middle;\n",
       "    }\n",
       "\n",
       "    .dataframe tbody tr th {\n",
       "        vertical-align: top;\n",
       "    }\n",
       "\n",
       "    .dataframe thead th {\n",
       "        text-align: right;\n",
       "    }\n",
       "</style>\n",
       "<table border=\"1\" class=\"dataframe\">\n",
       "  <thead>\n",
       "    <tr style=\"text-align: right;\">\n",
       "      <th></th>\n",
       "      <th>long</th>\n",
       "      <th>lat</th>\n",
       "      <th>SCL</th>\n",
       "      <th>B04</th>\n",
       "      <th>B08</th>\n",
       "    </tr>\n",
       "    <tr>\n",
       "      <th>Index</th>\n",
       "      <th></th>\n",
       "      <th></th>\n",
       "      <th></th>\n",
       "      <th></th>\n",
       "      <th></th>\n",
       "    </tr>\n",
       "  </thead>\n",
       "  <tbody>\n",
       "    <tr>\n",
       "      <th>0</th>\n",
       "      <td>646120</td>\n",
       "      <td>4471599</td>\n",
       "      <td>5</td>\n",
       "      <td>754</td>\n",
       "      <td>1115</td>\n",
       "    </tr>\n",
       "    <tr>\n",
       "      <th>1</th>\n",
       "      <td>653880</td>\n",
       "      <td>4419970</td>\n",
       "      <td>5</td>\n",
       "      <td>738</td>\n",
       "      <td>1062</td>\n",
       "    </tr>\n",
       "    <tr>\n",
       "      <th>2</th>\n",
       "      <td>640800</td>\n",
       "      <td>4484280</td>\n",
       "      <td>5</td>\n",
       "      <td>872</td>\n",
       "      <td>1534</td>\n",
       "    </tr>\n",
       "    <tr>\n",
       "      <th>3</th>\n",
       "      <td>611920</td>\n",
       "      <td>4436859</td>\n",
       "      <td>4</td>\n",
       "      <td>533</td>\n",
       "      <td>1952</td>\n",
       "    </tr>\n",
       "    <tr>\n",
       "      <th>4</th>\n",
       "      <td>647780</td>\n",
       "      <td>4461450</td>\n",
       "      <td>5</td>\n",
       "      <td>1044</td>\n",
       "      <td>1454</td>\n",
       "    </tr>\n",
       "    <tr>\n",
       "      <th>...</th>\n",
       "      <td>...</td>\n",
       "      <td>...</td>\n",
       "      <td>...</td>\n",
       "      <td>...</td>\n",
       "      <td>...</td>\n",
       "    </tr>\n",
       "    <tr>\n",
       "      <th>395</th>\n",
       "      <td>668920</td>\n",
       "      <td>4432610</td>\n",
       "      <td>2</td>\n",
       "      <td>29</td>\n",
       "      <td>61</td>\n",
       "    </tr>\n",
       "    <tr>\n",
       "      <th>396</th>\n",
       "      <td>679400</td>\n",
       "      <td>4444339</td>\n",
       "      <td>4</td>\n",
       "      <td>710</td>\n",
       "      <td>2927</td>\n",
       "    </tr>\n",
       "    <tr>\n",
       "      <th>397</th>\n",
       "      <td>672460</td>\n",
       "      <td>4433990</td>\n",
       "      <td>5</td>\n",
       "      <td>891</td>\n",
       "      <td>1265</td>\n",
       "    </tr>\n",
       "    <tr>\n",
       "      <th>398</th>\n",
       "      <td>635849</td>\n",
       "      <td>4404110</td>\n",
       "      <td>4</td>\n",
       "      <td>443</td>\n",
       "      <td>2766</td>\n",
       "    </tr>\n",
       "    <tr>\n",
       "      <th>399</th>\n",
       "      <td>709590</td>\n",
       "      <td>4496969</td>\n",
       "      <td>5</td>\n",
       "      <td>1014</td>\n",
       "      <td>1973</td>\n",
       "    </tr>\n",
       "  </tbody>\n",
       "</table>\n",
       "<p>400 rows × 5 columns</p>\n",
       "</div>"
      ],
      "text/plain": [
       "         long      lat  SCL   B04   B08\n",
       "Index                                  \n",
       "0      646120  4471599    5   754  1115\n",
       "1      653880  4419970    5   738  1062\n",
       "2      640800  4484280    5   872  1534\n",
       "3      611920  4436859    4   533  1952\n",
       "4      647780  4461450    5  1044  1454\n",
       "...       ...      ...  ...   ...   ...\n",
       "395    668920  4432610    2    29    61\n",
       "396    679400  4444339    4   710  2927\n",
       "397    672460  4433990    5   891  1265\n",
       "398    635849  4404110    4   443  2766\n",
       "399    709590  4496969    5  1014  1973\n",
       "\n",
       "[400 rows x 5 columns]"
      ]
     },
     "metadata": {},
     "output_type": "display_data"
    }
   ],
   "source": [
    "if df is None: \n",
    "    print('Creating Dataframe')\n",
    "    # Create a DataFrame from the dictionary\n",
    "    df = pd.DataFrame(data)\n",
    "    df.index.name = 'Index'\n",
    "    \n",
    "else: \n",
    "    print('Adding to existing Dataframe')\n",
    "    \n",
    "    # Create temp dataframe\n",
    "    df2 = pd.DataFrame(data)\n",
    "    df2.index.name = 'Index'\n",
    "    \n",
    "    # Assert the two dataframes have the same long and lat values\n",
    "    assert df['long'].isin(df2['long']).value_counts().values[0] == len(pixel_values)\n",
    "    assert df['lat'].isin(df2['lat']).value_counts().values[0] == len(pixel_values)\n",
    "    \n",
    "    # Merge temp dataframe with original dataframe, based on matching columns\n",
    "    df = pd.merge(df, df2, on=['Index', 'long', 'lat'])   \n",
    "    # Empty memory\n",
    "    df2 = None\n",
    "    \n",
    "display(df)"
   ]
  },
  {
   "cell_type": "code",
   "execution_count": 80,
   "metadata": {},
   "outputs": [],
   "source": [
    "# # Export dataframe \n",
    "df.to_csv('df_extractedpixels.csv')"
   ]
  },
  {
   "cell_type": "code",
   "execution_count": 50,
   "metadata": {},
   "outputs": [
    {
     "name": "stdout",
     "output_type": "stream",
     "text": [
      "END\n"
     ]
    }
   ],
   "source": [
    "print('END')"
   ]
  },
  {
   "cell_type": "code",
   "execution_count": null,
   "metadata": {},
   "outputs": [],
   "source": []
  },
  {
   "cell_type": "code",
   "execution_count": null,
   "metadata": {},
   "outputs": [],
   "source": []
  },
  {
   "cell_type": "code",
   "execution_count": null,
   "metadata": {},
   "outputs": [],
   "source": []
  },
  {
   "cell_type": "code",
   "execution_count": null,
   "metadata": {},
   "outputs": [],
   "source": []
  },
  {
   "cell_type": "code",
   "execution_count": null,
   "metadata": {},
   "outputs": [],
   "source": []
  },
  {
   "cell_type": "code",
   "execution_count": null,
   "metadata": {},
   "outputs": [],
   "source": []
  },
  {
   "cell_type": "code",
   "execution_count": null,
   "metadata": {},
   "outputs": [],
   "source": []
  },
  {
   "cell_type": "code",
   "execution_count": null,
   "metadata": {},
   "outputs": [],
   "source": []
  }
 ],
 "metadata": {
  "kernelspec": {
   "display_name": "env_eda",
   "language": "python",
   "name": "env_eda"
  },
  "language_info": {
   "codemirror_mode": {
    "name": "ipython",
    "version": 3
   },
   "file_extension": ".py",
   "mimetype": "text/x-python",
   "name": "python",
   "nbconvert_exporter": "python",
   "pygments_lexer": "ipython3",
   "version": "3.11.4"
  }
 },
 "nbformat": 4,
 "nbformat_minor": 4
}
