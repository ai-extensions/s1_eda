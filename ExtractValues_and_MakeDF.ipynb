{
 "cells": [
  {
   "cell_type": "code",
   "execution_count": 1,
   "metadata": {},
   "outputs": [],
   "source": [
    "import os\n",
    "from osgeo import gdal, ogr, osr\n",
    "import pyproj\n",
    "import numpy as np\n",
    "import pandas as pd\n",
    "import json\n",
    "\n",
    "gdal.UseExceptions()"
   ]
  },
  {
   "cell_type": "code",
   "execution_count": 2,
   "metadata": {},
   "outputs": [],
   "source": [
    "os.environ['PROJ_DATA']='/workspace/.conda/envs/env_labels/share/proj' \n",
    "# os.environ['GDAL_DATA']='/workspace/.conda/envs/env_labels/share/gdal'\n",
    "# os.environ['GTIFF_SRS_SOURCE'] = 'EPSG'"
   ]
  },
  {
   "cell_type": "code",
   "execution_count": 3,
   "metadata": {},
   "outputs": [],
   "source": [
    "import pystac\n",
    "from pystac import Link, Asset\n",
    "from pystac.extensions.label import LabelExtension\n",
    "from pystac.extensions.label import LabelType\n",
    "from pystac.extensions.label import LabelClasses\n",
    "from pystac.extensions.label import LabelStatistics\n",
    "from pystac.extensions.version import ItemVersionExtension"
   ]
  },
  {
   "cell_type": "code",
   "execution_count": 4,
   "metadata": {},
   "outputs": [],
   "source": [
    "# Set dataframe to None \n",
    "df = None"
   ]
  },
  {
   "cell_type": "code",
   "execution_count": 5,
   "metadata": {},
   "outputs": [],
   "source": [
    "# Read GeoJSON file and extract point coordinates\n",
    "def read_geojson_coordinates(geojson_file):\n",
    "    with open(geojson_file, 'r') as file:\n",
    "        geojson_data = json.load(file)\n",
    "    #for f in geojson_data['features'][:10]: print(f)\n",
    "    \n",
    "    points = []\n",
    "    luc = []\n",
    "    for feature in geojson_data['features']:\n",
    "        if feature['geometry']['type'] == 'Point':\n",
    "            # Add lon and lat\n",
    "            lon, lat, _ = feature['geometry']['coordinates']\n",
    "            points.append((lon, lat))\n",
    "            \n",
    "            # Add classification \n",
    "            luc.append(feature['properties']['class'])\n",
    "    return points, luc"
   ]
  },
  {
   "cell_type": "code",
   "execution_count": 6,
   "metadata": {},
   "outputs": [],
   "source": [
    "# Function to transform unprojected coordinates to projected coordinates\n",
    "def transform_coordinates(coordinates, epsg_s, epsg_t):\n",
    "    source_crs = pyproj.CRS(f'EPSG:{epsg_s}') \n",
    "    target_crs = pyproj.CRS(f'EPSG:{epsg_t}')  \n",
    "    transformer = pyproj.Transformer.from_crs(source_crs, target_crs, always_xy=True)\n",
    "    transformed_coords = [transformer.transform(lon, lat) for lon, lat in coordinates]\n",
    "    \n",
    "    transformed_coords_int = [[int(tc[0]), int(tc[1])] for tc in transformed_coords]\n",
    "    return transformed_coords_int"
   ]
  },
  {
   "cell_type": "code",
   "execution_count": 7,
   "metadata": {},
   "outputs": [],
   "source": [
    "# Function to extract pixel values from a GeoTIFF at given coordinates\n",
    "def extract_pixel_values(b_g, transformed_coords):\n",
    "    gt = b_g.GetGeoTransform()\n",
    "    b_rst = b_g.GetRasterBand(1)\n",
    "    \n",
    "    values = []\n",
    "\n",
    "    for lon, lat in transformed_coords:\n",
    "        px = int((lon - gt[0]) / gt[1])  # Convert longitude to pixel x\n",
    "        py = int((lat - gt[3]) / gt[5])  # Convert latitude to pixel y\n",
    "\n",
    "        value = b_rst.ReadAsArray(px, py, 1, 1)[0][0]\n",
    "        values.append(value)\n",
    "    \n",
    "    # Empty raster \n",
    "    b_rst = None\n",
    "    \n",
    "    return values"
   ]
  },
  {
   "cell_type": "code",
   "execution_count": null,
   "metadata": {},
   "outputs": [],
   "source": []
  },
  {
   "cell_type": "markdown",
   "metadata": {
    "tags": []
   },
   "source": [
    "# Read ML STAC Item"
   ]
  },
  {
   "cell_type": "code",
   "execution_count": 8,
   "metadata": {},
   "outputs": [],
   "source": [
    "# Define name of the ML item\n",
    "item_label_fname = \"item-label-train.json\""
   ]
  },
  {
   "cell_type": "code",
   "execution_count": 9,
   "metadata": {},
   "outputs": [
    {
     "data": {
      "text/plain": [
       "{'ml-aoi:split': 'train',\n",
       " 'label:description': 'Land cover labels',\n",
       " 'label:type': 'vector',\n",
       " 'label:properties': ['class'],\n",
       " 'label:classes': [{'NO_DATA': 0,\n",
       "   'SATURATED_OR_DEFECTIVE': 1,\n",
       "   'CAST_SHADOWS': 2,\n",
       "   'CLOUD_SHADOWS': 3,\n",
       "   'VEGETATION': 4,\n",
       "   'NOT_VEGETATED': 5,\n",
       "   'WATER': 6,\n",
       "   'UNCLASSIFIED': 7,\n",
       "   'CLOUD_MEDIUM_PROBABILITY': 8,\n",
       "   'CLOUD_HIGH_PROBABILITY': 9,\n",
       "   'THIN_CIRRUS': 10,\n",
       "   'SNOW or ICE': 11}],\n",
       " 'label:tasks': ['segmentation', 'regression'],\n",
       " 'label:methods': ['manual'],\n",
       " 'version': '0.1',\n",
       " 'deprecated': False,\n",
       " 'datetime': '2023-05-29T13:57:36.729558Z'}"
      ]
     },
     "metadata": {},
     "output_type": "display_data"
    }
   ],
   "source": [
    "item = pystac.read_file(item_label_fname)\n",
    "display(item.properties)"
   ]
  },
  {
   "cell_type": "markdown",
   "metadata": {},
   "source": [
    "## Load S2 scene"
   ]
  },
  {
   "cell_type": "code",
   "execution_count": 10,
   "metadata": {},
   "outputs": [
    {
     "name": "stdout",
     "output_type": "stream",
     "text": [
      "href of the S2 scene: https://earth-search.aws.element84.com/v0/collections/sentinel-s2-l2a-cogs/items/S2A_10TFK_20220524_0_L2A\n"
     ]
    }
   ],
   "source": [
    "s2_href = [l.target for l in item.links if l.rel == 'source'][0]\n",
    "print('href of the S2 scene:', s2_href)"
   ]
  },
  {
   "cell_type": "code",
   "execution_count": 11,
   "metadata": {},
   "outputs": [
    {
     "data": {
      "text/plain": [
       "{'datetime': '2022-05-24T19:03:29Z',\n",
       " 'platform': 'sentinel-2a',\n",
       " 'constellation': 'sentinel-2',\n",
       " 'instruments': ['msi'],\n",
       " 'gsd': 10,\n",
       " 'view:off_nadir': 0,\n",
       " 'proj:epsg': 32610,\n",
       " 'sentinel:utm_zone': 10,\n",
       " 'sentinel:latitude_band': 'T',\n",
       " 'sentinel:grid_square': 'FK',\n",
       " 'sentinel:sequence': '0',\n",
       " 'sentinel:product_id': 'S2A_MSIL2A_20220524T184921_N0400_R113_T10TFK_20220525T004817',\n",
       " 'sentinel:data_coverage': 100,\n",
       " 'eo:cloud_cover': 0.24,\n",
       " 'sentinel:valid_cloud_cover': True,\n",
       " 'sentinel:processing_baseline': '04.00',\n",
       " 'sentinel:boa_offset_applied': True,\n",
       " 'created': '2022-05-25T03:20:43.295Z',\n",
       " 'updated': '2022-05-25T03:20:43.295Z'}"
      ]
     },
     "metadata": {},
     "output_type": "display_data"
    }
   ],
   "source": [
    "# Read STAC Item\n",
    "s2item = pystac.read_file(s2_href)\n",
    "display(s2item.properties)"
   ]
  },
  {
   "cell_type": "code",
   "execution_count": 12,
   "metadata": {},
   "outputs": [
    {
     "name": "stdout",
     "output_type": "stream",
     "text": [
      "Available bands: ['thumbnail', 'overview', 'info', 'metadata', 'visual', 'B01', 'B02', 'B03', 'B04', 'B05', 'B06', 'B07', 'B08', 'B8A', 'B09', 'B11', 'B12', 'AOT', 'WVP', 'SCL']\n",
      "Target EPSG:32610\n"
     ]
    }
   ],
   "source": [
    "print(f'Available bands: {list(s2item.assets.keys())}')\n",
    "epsg_t = s2item.properties['proj:epsg']\n",
    "print(f'Target EPSG:{epsg_t}')"
   ]
  },
  {
   "cell_type": "markdown",
   "metadata": {},
   "source": [
    "## Load geojson points"
   ]
  },
  {
   "cell_type": "code",
   "execution_count": 13,
   "metadata": {},
   "outputs": [
    {
     "name": "stdout",
     "output_type": "stream",
     "text": [
      "href of the geojson file: label-train.geojson\n"
     ]
    }
   ],
   "source": [
    "geojson_href = item.assets['labels'].href\n",
    "print('href of the geojson file:', geojson_href)"
   ]
  },
  {
   "cell_type": "code",
   "execution_count": 14,
   "metadata": {
    "tags": []
   },
   "outputs": [
    {
     "data": {
      "text/plain": [
       "([(-121.27859163156747, 40.38218701036475),\n",
       "  (-121.19953674120562, 39.91585786896506),\n",
       "  (-121.33843034984275, 40.4972903822101),\n",
       "  (-121.68743345874819, 40.07457719936124),\n",
       "  (-121.26139230895694, 40.290492371933254)],\n",
       " [4, 4, 5, 4, 5])"
      ]
     },
     "execution_count": 14,
     "metadata": {},
     "output_type": "execute_result"
    }
   ],
   "source": [
    "# Open asset (geojson format) and read all the coordinates within \n",
    "coordinates, luc = read_geojson_coordinates(geojson_href)\n",
    "coordinates[:5], luc[:5]"
   ]
  },
  {
   "cell_type": "code",
   "execution_count": 15,
   "metadata": {},
   "outputs": [
    {
     "data": {
      "text/plain": [
       "[[646120, 4471599],\n",
       " [653880, 4419970],\n",
       " [640800, 4484280],\n",
       " [611920, 4436859],\n",
       " [647780, 4461450]]"
      ]
     },
     "execution_count": 15,
     "metadata": {},
     "output_type": "execute_result"
    }
   ],
   "source": [
    "# Transofrm coordinates\n",
    "epsg_s = '4326'\n",
    "transformed_coords = transform_coordinates(coordinates, epsg_s, epsg_t)\n",
    "transformed_coords[:5]"
   ]
  },
  {
   "cell_type": "markdown",
   "metadata": {},
   "source": [
    "## Extract values of selected band(s) for each point in the geojson file\n",
    "Select a band or a list of bands, ie ```[`B02`, `B03`, `B04`, `B08`,`SCL`]```"
   ]
  },
  {
   "cell_type": "code",
   "execution_count": 16,
   "metadata": {},
   "outputs": [],
   "source": [
    "bands = ['B02', 'B03', 'B04', 'B05', 'B06', 'B07', 'B08', 'B8A', 'B11', 'B12']"
   ]
  },
  {
   "cell_type": "code",
   "execution_count": 20,
   "metadata": {},
   "outputs": [
    {
     "name": "stdout",
     "output_type": "stream",
     "text": [
      "Band: B02\n",
      "- Common Band Name: blue\n",
      "- Res: 10m\n",
      "- href: https://sentinel-cogs.s3.us-west-2.amazonaws.com/sentinel-s2-l2a-cogs/10/T/FK/2022/5/S2A_10TFK_20220524_0_L2A/B02.tif\n"
     ]
    },
    {
     "ename": "KeyboardInterrupt",
     "evalue": "",
     "output_type": "error",
     "traceback": [
      "\u001b[0;31m---------------------------------------------------------------------------\u001b[0m",
      "\u001b[0;31mKeyboardInterrupt\u001b[0m                         Traceback (most recent call last)",
      "Cell \u001b[0;32mIn[20], line 17\u001b[0m\n\u001b[1;32m     14\u001b[0m \u001b[38;5;28mprint\u001b[39m(\u001b[38;5;124m'\u001b[39m\u001b[38;5;124m- href:\u001b[39m\u001b[38;5;124m'\u001b[39m, b_href)\n\u001b[1;32m     16\u001b[0m \u001b[38;5;66;03m# Get gdal object\u001b[39;00m\n\u001b[0;32m---> 17\u001b[0m b_g \u001b[38;5;241m=\u001b[39m \u001b[43mgdal\u001b[49m\u001b[38;5;241;43m.\u001b[39;49m\u001b[43mOpen\u001b[49m\u001b[43m(\u001b[49m\u001b[43mb_href\u001b[49m\u001b[43m)\u001b[49m\n\u001b[1;32m     19\u001b[0m \u001b[38;5;66;03m# Extract pixel values\u001b[39;00m\n\u001b[1;32m     20\u001b[0m pixel_values \u001b[38;5;241m=\u001b[39m extract_pixel_values(b_g, transformed_coords)\n",
      "File \u001b[0;32m/workspace/.conda/envs/env_eda/lib/python3.11/site-packages/osgeo/gdal.py:5296\u001b[0m, in \u001b[0;36mOpen\u001b[0;34m(*args)\u001b[0m\n\u001b[1;32m   5291\u001b[0m \u001b[38;5;250m\u001b[39m\u001b[38;5;124mr\u001b[39m\u001b[38;5;124;03m\"\"\"Open(char const * utf8_path, GDALAccess eAccess=GA_ReadOnly) -> Dataset\"\"\"\u001b[39;00m\n\u001b[1;32m   5293\u001b[0m _WarnIfUserHasNotSpecifiedIfUsingExceptions()\n\u001b[0;32m-> 5296\u001b[0m \u001b[38;5;28;01mreturn\u001b[39;00m \u001b[43m_gdal\u001b[49m\u001b[38;5;241;43m.\u001b[39;49m\u001b[43mOpen\u001b[49m\u001b[43m(\u001b[49m\u001b[38;5;241;43m*\u001b[39;49m\u001b[43margs\u001b[49m\u001b[43m)\u001b[49m\n",
      "\u001b[0;31mKeyboardInterrupt\u001b[0m: "
     ]
    }
   ],
   "source": [
    "for band in bands:\n",
    "    assert band in list(s2item.assets.keys()), f'Band {band} does not exist'\n",
    "    \n",
    "    if cbn in df.columns: continue\n",
    "    \n",
    "    print('Band:', band)\n",
    "    b_metadata = s2item.assets[band].to_dict()\n",
    "    cbn = b_metadata['eo:bands'][0]['common_name']\n",
    "    print(f'- Common Band Name: {cbn}')\n",
    "    print(f'- Res: {b_metadata[\"gsd\"]}m')\n",
    "    \n",
    "    # Extract band\n",
    "    b_href = s2item.assets[band].href\n",
    "    print('- href:', b_href)\n",
    "\n",
    "    # Get gdal object\n",
    "    b_g = gdal.Open(b_href)\n",
    "    \n",
    "    # Extract pixel values\n",
    "    pixel_values = extract_pixel_values(b_g, transformed_coords)\n",
    "    \n",
    "    for (lon0, lat0), (lon1, lat1), value, lu in zip(coordinates[:5], transformed_coords[:5], pixel_values[:5], luc[:5]):\n",
    "        print(f\"Coords (Unprj): {np.round(lon0,3)}, {np.round(lat0,3)} - Coords (Prj): {lon1}, {lat1} - Pixel Value: {value} - LUC: {lu}\")\n",
    "    \n",
    "    # Empty b_g\n",
    "    b_g = None\n",
    "    \n",
    "    # Make or Append to Pandas dataframe\n",
    "    data = {\n",
    "        'long': [x[0] for x in transformed_coords], \n",
    "        'lat': [x[1] for x in transformed_coords], \n",
    "        'LUC': luc,\n",
    "        cbn: pixel_values,\n",
    "    }\n",
    "\n",
    "    if df is None: \n",
    "        print('Creating Dataframe')\n",
    "        # Create a DataFrame from the dictionary\n",
    "        df = pd.DataFrame(data)\n",
    "        df.index.name = 'Index'\n",
    "\n",
    "    else: \n",
    "        print('Adding to existing Dataframe')\n",
    "\n",
    "        # Create temp dataframe\n",
    "        df2 = pd.DataFrame(data)\n",
    "        df2.index.name = 'Index'\n",
    "\n",
    "        # Assert the two dataframes have the same long and lat values\n",
    "        assert df['long'].isin(df2['long']).value_counts().values[0] == len(pixel_values)\n",
    "        assert df['lat'].isin(df2['lat']).value_counts().values[0] == len(pixel_values)\n",
    "\n",
    "        # Merge temp dataframe with original dataframe, based on matching columns\n",
    "        df = pd.merge(df, df2, on=['Index', 'long', 'lat', 'LUC'])   \n",
    "        # Empty memory\n",
    "        df2 = None\n",
    "\n",
    "    display(df)\n",
    "    print()"
   ]
  },
  {
   "cell_type": "code",
   "execution_count": null,
   "metadata": {},
   "outputs": [],
   "source": []
  },
  {
   "cell_type": "code",
   "execution_count": null,
   "metadata": {},
   "outputs": [],
   "source": []
  },
  {
   "cell_type": "code",
   "execution_count": null,
   "metadata": {},
   "outputs": [],
   "source": []
  },
  {
   "cell_type": "code",
   "execution_count": null,
   "metadata": {},
   "outputs": [],
   "source": []
  },
  {
   "cell_type": "code",
   "execution_count": null,
   "metadata": {},
   "outputs": [],
   "source": []
  },
  {
   "cell_type": "code",
   "execution_count": null,
   "metadata": {},
   "outputs": [],
   "source": []
  },
  {
   "cell_type": "code",
   "execution_count": null,
   "metadata": {},
   "outputs": [],
   "source": []
  },
  {
   "cell_type": "code",
   "execution_count": null,
   "metadata": {},
   "outputs": [],
   "source": []
  },
  {
   "cell_type": "code",
   "execution_count": null,
   "metadata": {},
   "outputs": [],
   "source": []
  },
  {
   "cell_type": "code",
   "execution_count": null,
   "metadata": {},
   "outputs": [],
   "source": []
  },
  {
   "cell_type": "code",
   "execution_count": null,
   "metadata": {},
   "outputs": [],
   "source": []
  },
  {
   "cell_type": "code",
   "execution_count": null,
   "metadata": {},
   "outputs": [],
   "source": [
    "# # Export dataframe \n",
    "df.to_csv('df_extractedpixels.csv')"
   ]
  },
  {
   "cell_type": "code",
   "execution_count": null,
   "metadata": {},
   "outputs": [],
   "source": [
    "print('END')"
   ]
  },
  {
   "cell_type": "code",
   "execution_count": null,
   "metadata": {},
   "outputs": [],
   "source": []
  },
  {
   "cell_type": "code",
   "execution_count": null,
   "metadata": {},
   "outputs": [],
   "source": []
  },
  {
   "cell_type": "code",
   "execution_count": null,
   "metadata": {},
   "outputs": [],
   "source": []
  },
  {
   "cell_type": "code",
   "execution_count": null,
   "metadata": {},
   "outputs": [],
   "source": []
  },
  {
   "cell_type": "code",
   "execution_count": null,
   "metadata": {},
   "outputs": [],
   "source": []
  },
  {
   "cell_type": "code",
   "execution_count": null,
   "metadata": {},
   "outputs": [],
   "source": []
  },
  {
   "cell_type": "code",
   "execution_count": null,
   "metadata": {},
   "outputs": [],
   "source": []
  },
  {
   "cell_type": "code",
   "execution_count": null,
   "metadata": {},
   "outputs": [],
   "source": []
  }
 ],
 "metadata": {
  "kernelspec": {
   "display_name": "env_eda",
   "language": "python",
   "name": "env_eda"
  },
  "language_info": {
   "codemirror_mode": {
    "name": "ipython",
    "version": 3
   },
   "file_extension": ".py",
   "mimetype": "text/x-python",
   "name": "python",
   "nbconvert_exporter": "python",
   "pygments_lexer": "ipython3",
   "version": "3.11.4"
  }
 },
 "nbformat": 4,
 "nbformat_minor": 4
}
