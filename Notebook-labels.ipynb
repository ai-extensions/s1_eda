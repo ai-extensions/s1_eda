{
 "cells": [
  {
   "cell_type": "code",
   "execution_count": 22,
   "metadata": {},
   "outputs": [],
   "source": [
    "import pystac\n",
    "from pystac import Link, Asset\n",
    "from datetime import datetime"
   ]
  },
  {
   "cell_type": "code",
   "execution_count": 2,
   "metadata": {},
   "outputs": [],
   "source": [
    "from pystac.extensions.label import LabelExtension\n",
    "from pystac.extensions.label import LabelType\n",
    "from pystac.extensions.label import LabelClasses\n",
    "from pystac.extensions.label import LabelStatistics\n",
    "\n",
    "from pystac.extensions.version import ItemVersionExtension"
   ]
  },
  {
   "cell_type": "code",
   "execution_count": 3,
   "metadata": {},
   "outputs": [],
   "source": [
    "import matplotlib.pyplot as plt\n",
    "import matplotlib.colors as colors"
   ]
  },
  {
   "cell_type": "code",
   "execution_count": 4,
   "metadata": {},
   "outputs": [],
   "source": [
    "aws_url = \"https://earth-search.aws.element84.com/v0/collections/sentinel-s2-l2a-cogs/items/S2A_10TFK_20220524_0_L2A\"\n",
    "# labels_geojson_fname = 'labels-v1.geojson'\n",
    "labels_geojson_fname = 'label-train.geojson'"
   ]
  },
  {
   "cell_type": "code",
   "execution_count": 5,
   "metadata": {},
   "outputs": [
    {
     "data": {
      "text/html": [
       "&lt;Item id=S2A_10TFK_20220524_0_L2A&gt;"
      ],
      "text/plain": [
       "<Item id=S2A_10TFK_20220524_0_L2A>"
      ]
     },
     "execution_count": 5,
     "metadata": {},
     "output_type": "execute_result"
    }
   ],
   "source": [
    "source_item = pystac.read_file(aws_url)\n",
    "source_item"
   ]
  },
  {
   "cell_type": "code",
   "execution_count": 6,
   "metadata": {},
   "outputs": [
    {
     "data": {
      "text/html": [
       "&lt;Asset href=https://sentinel-cogs.s3.us-west-2.amazonaws.com/sentinel-s2-l2a-cogs/10/T/FK/2022/5/S2A_10TFK_20220524_0_L2A/SCL.tif&gt;"
      ],
      "text/plain": [
       "<Asset href=https://sentinel-cogs.s3.us-west-2.amazonaws.com/sentinel-s2-l2a-cogs/10/T/FK/2022/5/S2A_10TFK_20220524_0_L2A/SCL.tif>"
      ]
     },
     "execution_count": 6,
     "metadata": {},
     "output_type": "execute_result"
    }
   ],
   "source": [
    "source_item.get_assets()['SCL']"
   ]
  },
  {
   "cell_type": "code",
   "execution_count": 7,
   "metadata": {},
   "outputs": [],
   "source": [
    "label_item = pystac.Item(\n",
    "    id=\"label_{}\".format(\"lu\"),\n",
    "    geometry=source_item.geometry,\n",
    "    bbox=source_item.bbox,\n",
    "    datetime=datetime.utcnow(),\n",
    "    properties={},\n",
    ")"
   ]
  },
  {
   "cell_type": "code",
   "execution_count": 8,
   "metadata": {},
   "outputs": [],
   "source": [
    "label_classes = {\n",
    "    \"NO_DATA\": 0,\n",
    "    \"SATURATED_OR_DEFECTIVE\": 1,\n",
    "    \"CAST_SHADOWS\": 2,\n",
    "    \"CLOUD_SHADOWS\": 3,\n",
    "    \"VEGETATION\": 4,\n",
    "    \"NOT_VEGETATED\": 5,\n",
    "    \"WATER\": 6,\n",
    "    \"UNCLASSIFIED\": 7,\n",
    "    \"CLOUD_MEDIUM_PROBABILITY\": 8,\n",
    "    \"CLOUD_HIGH_PROBABILITY\": 9,\n",
    "    \"THIN_CIRRUS\": 10,\n",
    "    \"SNOW or ICE\": 11,\n",
    "}"
   ]
  },
  {
   "cell_type": "code",
   "execution_count": 9,
   "metadata": {},
   "outputs": [],
   "source": [
    "label = LabelExtension.ext(label_item, add_if_missing=True)\n",
    "label.apply(\n",
    "    label_description=\"Land cover labels\",\n",
    "    label_type=LabelType.VECTOR,\n",
    "    label_tasks=[\"segmentation\", \"regression\"],\n",
    "    label_classes=[LabelClasses(label_classes)],\n",
    "    label_methods=[\"manual\"],\n",
    "    label_properties=[\"class\"],\n",
    ")\n",
    "label.add_source(source_item=source_item)\n",
    "label.add_geojson_labels(labels_geojson_fname)"
   ]
  },
  {
   "cell_type": "code",
   "execution_count": 10,
   "metadata": {},
   "outputs": [],
   "source": [
    "version = ItemVersionExtension(label_item)\n",
    "\n",
    "version.apply(version=\"0.1\", deprecated=False)\n",
    "\n",
    "label_item.stac_extensions.append(\n",
    "    \"https://stac-extensions.github.io/version/v1.2.0/schema.json\"\n",
    ")"
   ]
  },
  {
   "cell_type": "code",
   "execution_count": 11,
   "metadata": {},
   "outputs": [],
   "source": [
    "pystac.write_file(label_item, dest_href=\"label-item.json\")"
   ]
  },
  {
   "cell_type": "code",
   "execution_count": 12,
   "metadata": {},
   "outputs": [],
   "source": [
    "ml_aoi_item = pystac.Item(\n",
    "    id=\"ml-aoi\",\n",
    "    geometry=source_item.geometry,\n",
    "    bbox=source_item.bbox,\n",
    "    datetime=datetime.utcnow(),\n",
    "    properties={\"ml-aoi:split\": \"train\"},\n",
    ")"
   ]
  },
  {
   "cell_type": "code",
   "execution_count": 13,
   "metadata": {},
   "outputs": [],
   "source": [
    "ml_aoi_item.add_link(\n",
    "    Link(\n",
    "        rel=\"derived_from\",\n",
    "        target=aws_url,\n",
    "        extra_fields={\"ml-aoi:role\": \"feature\"},\n",
    "    )\n",
    ")\n",
    "\n",
    "ml_aoi_item.add_link(\n",
    "    Link(\n",
    "        rel=\"derived_from\",\n",
    "        target=\"label-item.json\",\n",
    "        extra_fields={\"role\": \"ml-aoi:label\"},\n",
    "    )\n",
    ")"
   ]
  },
  {
   "cell_type": "code",
   "execution_count": 14,
   "metadata": {},
   "outputs": [],
   "source": [
    "label_asset = Asset(\n",
    "    href=labels_geojson_fname,\n",
    "    description=\"label\",\n",
    "    media_type=pystac.MediaType.GEOJSON,\n",
    "    roles=[\"label\"],\n",
    "    extra_fields={\"ml-aoi:role\": \"label\"},\n",
    ")\n",
    "\n",
    "ml_aoi_item.add_asset(key=\"label\", asset=label_asset)"
   ]
  },
  {
   "cell_type": "code",
   "execution_count": 15,
   "metadata": {},
   "outputs": [],
   "source": [
    "ml_aoi_item.stac_extensions = [\n",
    "    \"https://stac-extensions.github.io/ml-aoi/v0.1.0/schema.json\"\n",
    "]"
   ]
  },
  {
   "cell_type": "code",
   "execution_count": 16,
   "metadata": {},
   "outputs": [],
   "source": [
    "ml_item_fname = \"item-label-train.json\" #\"ml-aoi-item.json\" \n",
    "pystac.write_file(ml_aoi_item, dest_href=ml_item_fname)"
   ]
  },
  {
   "cell_type": "code",
   "execution_count": null,
   "metadata": {},
   "outputs": [],
   "source": []
  }
 ],
 "metadata": {
  "kernelspec": {
   "display_name": "Python [conda env:.conda-env_eda]",
   "language": "python",
   "name": "conda-env-.conda-env_eda-py"
  },
  "language_info": {
   "codemirror_mode": {
    "name": "ipython",
    "version": 3
   },
   "file_extension": ".py",
   "mimetype": "text/x-python",
   "name": "python",
   "nbconvert_exporter": "python",
   "pygments_lexer": "ipython3",
   "version": "3.11.4"
  }
 },
 "nbformat": 4,
 "nbformat_minor": 4
}
