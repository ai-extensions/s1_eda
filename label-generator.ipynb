{
 "cells": [
  {
   "cell_type": "code",
   "execution_count": 56,
   "metadata": {},
   "outputs": [],
   "source": [
    "import os\n",
    "from osgeo import gdal, ogr, osr\n",
    "from sklearn.model_selection import train_test_split\n",
    "import numpy as np\n",
    "import pandas as pd\n",
    "\n",
    "gdal.UseExceptions()"
   ]
  },
  {
   "cell_type": "code",
   "execution_count": 57,
   "metadata": {},
   "outputs": [],
   "source": [
    "os.environ['PROJ_DATA']='/workspace/.conda/envs/env_labels/share/proj' \n",
    "# os.environ['GDAL_DATA']='/workspace/.conda/envs/env_labels/share/gdal'\n",
    "# os.environ['GTIFF_SRS_SOURCE'] = 'EPSG'"
   ]
  },
  {
   "cell_type": "code",
   "execution_count": 58,
   "metadata": {},
   "outputs": [],
   "source": [
    "import pystac\n",
    "from pystac import Link, Asset"
   ]
  },
  {
   "cell_type": "code",
   "execution_count": 59,
   "metadata": {},
   "outputs": [],
   "source": [
    "from pystac.extensions.label import LabelExtension\n",
    "from pystac.extensions.label import LabelType\n",
    "from pystac.extensions.label import LabelClasses\n",
    "from pystac.extensions.label import LabelStatistics\n",
    "\n",
    "from pystac.extensions.version import ItemVersionExtension"
   ]
  },
  {
   "cell_type": "code",
   "execution_count": 60,
   "metadata": {},
   "outputs": [],
   "source": [
    "# Set dataframe to None \n",
    "df = None"
   ]
  },
  {
   "cell_type": "code",
   "execution_count": 61,
   "metadata": {},
   "outputs": [],
   "source": [
    "def pixel_to_coords(source, x, y):\n",
    "    \"\"\"Returns global coordinates in EPSG:4326 from pixel x, y coords\"\"\"\n",
    "\n",
    "    geo_transform = source.GetGeoTransform()\n",
    "\n",
    "    x_min = geo_transform[0]\n",
    "    x_size = geo_transform[1]\n",
    "    y_min = geo_transform[3]\n",
    "    y_size = geo_transform[5]\n",
    "    px = x * x_size + x_min\n",
    "    py = y * y_size + y_min\n",
    "\n",
    "    srs = osr.SpatialReference()\n",
    "    srs.ImportFromWkt(source.GetProjection())\n",
    "\n",
    "    srs_4326 = srs.CloneGeogCS()\n",
    "    ct = osr.CoordinateTransformation(srs, srs_4326)\n",
    "\n",
    "    long, lat, _ = ct.TransformPoint(px, py)\n",
    "\n",
    "    return long, lat"
   ]
  },
  {
   "cell_type": "markdown",
   "metadata": {},
   "source": [
    "## Read STAC Item"
   ]
  },
  {
   "cell_type": "code",
   "execution_count": 62,
   "metadata": {},
   "outputs": [],
   "source": [
    "aws_url = \"https://earth-search.aws.element84.com/v0/collections/sentinel-s2-l2a-cogs/items/S2B_10TFK_20210713_0_L2A\""
   ]
  },
  {
   "cell_type": "code",
   "execution_count": 63,
   "metadata": {},
   "outputs": [
    {
     "data": {
      "text/plain": [
       "{'datetime': '2021-07-13T19:03:24Z',\n",
       " 'platform': 'sentinel-2b',\n",
       " 'constellation': 'sentinel-2',\n",
       " 'instruments': ['msi'],\n",
       " 'gsd': 10,\n",
       " 'view:off_nadir': 0,\n",
       " 'proj:epsg': 32610,\n",
       " 'sentinel:utm_zone': 10,\n",
       " 'sentinel:latitude_band': 'T',\n",
       " 'sentinel:grid_square': 'FK',\n",
       " 'sentinel:sequence': '0',\n",
       " 'sentinel:product_id': 'S2B_MSIL2A_20210713T184919_N0301_R113_T10TFK_20210713T213143',\n",
       " 'sentinel:data_coverage': 100,\n",
       " 'eo:cloud_cover': 0,\n",
       " 'sentinel:valid_cloud_cover': True,\n",
       " 'created': '2021-07-13T23:57:53.846Z',\n",
       " 'updated': '2021-07-13T23:57:53.846Z'}"
      ]
     },
     "metadata": {},
     "output_type": "display_data"
    }
   ],
   "source": [
    "item = pystac.read_file(aws_url)\n",
    "display(item.properties)"
   ]
  },
  {
   "cell_type": "code",
   "execution_count": 64,
   "metadata": {},
   "outputs": [
    {
     "name": "stdout",
     "output_type": "stream",
     "text": [
      "Available bands: ['thumbnail', 'overview', 'info', 'metadata', 'visual', 'B01', 'B02', 'B03', 'B04', 'B05', 'B06', 'B07', 'B08', 'B8A', 'B09', 'B11', 'B12', 'AOT', 'WVP', 'SCL']\n"
     ]
    }
   ],
   "source": [
    "print(f'Available bands: {list(item.assets.keys())}')"
   ]
  },
  {
   "cell_type": "markdown",
   "metadata": {},
   "source": [
    "## Extract values of selected band(s) for a defined random number of pixels\n",
    "Eg start with `SCL` and `B04` bands"
   ]
  },
  {
   "cell_type": "code",
   "execution_count": 65,
   "metadata": {},
   "outputs": [],
   "source": [
    "band = 'SCL' # 'B04'"
   ]
  },
  {
   "cell_type": "code",
   "execution_count": 66,
   "metadata": {},
   "outputs": [
    {
     "name": "stdout",
     "output_type": "stream",
     "text": [
      "band: SCL\n",
      "href: https://sentinel-cogs.s3.us-west-2.amazonaws.com/sentinel-s2-l2a-cogs/10/T/FK/2021/7/S2B_10TFK_20210713_0_L2A/SCL.tif\n",
      "Shape: (5490, 5490)\n",
      "Number of LC classes: 11\n"
     ]
    }
   ],
   "source": [
    "print('band:', band)\n",
    "\n",
    "# Extract band\n",
    "b_href = item.assets[band].href\n",
    "print('href:', b_href)\n",
    "\n",
    "# Get gdal object\n",
    "b_g = gdal.Open(b_href)\n",
    "b_rst = b_g.GetRasterBand(1)\n",
    "\n",
    "# Get array\n",
    "b_arr = b_rst.ReadAsArray()\n",
    "print('Shape:', np.shape(b_arr))\n",
    "n_cl = len(np.unique(b_arr))\n",
    "print(f'Number of LC classes: {n_cl}')"
   ]
  },
  {
   "cell_type": "code",
   "execution_count": 54,
   "metadata": {},
   "outputs": [
    {
     "data": {
      "text/plain": [
       "{'href': 'https://sentinel-cogs.s3.us-west-2.amazonaws.com/sentinel-s2-l2a-cogs/10/T/FK/2021/7/S2B_10TFK_20210713_0_L2A/B04.tif',\n",
       " 'type': 'image/tiff; application=geotiff; profile=cloud-optimized',\n",
       " 'title': 'Band 4 (red)',\n",
       " 'gsd': 10,\n",
       " 'eo:bands': [{'name': 'B04',\n",
       "   'common_name': 'red',\n",
       "   'center_wavelength': 0.6645,\n",
       "   'full_width_half_max': 0.038}],\n",
       " 'proj:shape': [10980, 10980],\n",
       " 'proj:transform': [10, 0, 600000, 0, -10, 4500000, 0, 0, 1],\n",
       " 'roles': ['data']}"
      ]
     },
     "execution_count": 54,
     "metadata": {},
     "output_type": "execute_result"
    }
   ],
   "source": [
    "item.assets['B04'].to_dict()"
   ]
  },
  {
   "cell_type": "code",
   "execution_count": 55,
   "metadata": {},
   "outputs": [
    {
     "data": {
      "text/plain": [
       "{'href': 'https://sentinel-cogs.s3.us-west-2.amazonaws.com/sentinel-s2-l2a-cogs/10/T/FK/2021/7/S2B_10TFK_20210713_0_L2A/SCL.tif',\n",
       " 'type': 'image/tiff; application=geotiff; profile=cloud-optimized',\n",
       " 'title': 'Scene Classification Map (SCL)',\n",
       " 'proj:shape': [5490, 5490],\n",
       " 'proj:transform': [20, 0, 600000, 0, -20, 4500000, 0, 0, 1],\n",
       " 'roles': ['data']}"
      ]
     },
     "execution_count": 55,
     "metadata": {},
     "output_type": "execute_result"
    }
   ],
   "source": [
    "item.assets['SCL'].to_dict()"
   ]
  },
  {
   "cell_type": "markdown",
   "metadata": {
    "tags": []
   },
   "source": [
    "### Generate (fixed) random sample of image coordinates "
   ]
  },
  {
   "cell_type": "code",
   "execution_count": 67,
   "metadata": {},
   "outputs": [
    {
     "data": {
      "text/plain": [
       "array([[ 861, 5391],\n",
       "       [5227, 5192],\n",
       "       [3773, 3093],\n",
       "       [ 467, 5335],\n",
       "       [4427, 3445]])"
      ]
     },
     "execution_count": 67,
     "metadata": {},
     "output_type": "execute_result"
    }
   ],
   "source": [
    "# Define number of pixels \n",
    "no_pixels = 500 \n",
    "np.random.seed(42) # keep this fixed \n",
    "\n",
    "# Generate array representing the pair of coordinates \n",
    "xy = np.random.randint(1, np.shape(b_arr)[0], size=(no_pixels, 2))\n",
    "xy[:5]"
   ]
  },
  {
   "cell_type": "markdown",
   "metadata": {},
   "source": [
    "Note that With **SCL** I get these:\n",
    "\n",
    "```\n",
    "Shape: (5490, 5490)\n",
    "\n",
    "array([[ 861, 5391],\n",
    "       [5227, 5192],\n",
    "       [3773, 3093],\n",
    "       [ 467, 5335],\n",
    "       [4427, 3445]])\n",
    "```"
   ]
  },
  {
   "cell_type": "code",
   "execution_count": 68,
   "metadata": {},
   "outputs": [
    {
     "data": {
      "text/plain": [
       "{'datetime': '2021-07-13T19:03:24Z',\n",
       " 'platform': 'sentinel-2b',\n",
       " 'constellation': 'sentinel-2',\n",
       " 'instruments': ['msi'],\n",
       " 'gsd': 10,\n",
       " 'view:off_nadir': 0,\n",
       " 'proj:epsg': 32610,\n",
       " 'sentinel:utm_zone': 10,\n",
       " 'sentinel:latitude_band': 'T',\n",
       " 'sentinel:grid_square': 'FK',\n",
       " 'sentinel:sequence': '0',\n",
       " 'sentinel:product_id': 'S2B_MSIL2A_20210713T184919_N0301_R113_T10TFK_20210713T213143',\n",
       " 'sentinel:data_coverage': 100,\n",
       " 'eo:cloud_cover': 0,\n",
       " 'sentinel:valid_cloud_cover': True,\n",
       " 'created': '2021-07-13T23:57:53.846Z',\n",
       " 'updated': '2021-07-13T23:57:53.846Z'}"
      ]
     },
     "execution_count": 68,
     "metadata": {},
     "output_type": "execute_result"
    }
   ],
   "source": [
    "item.properties"
   ]
  },
  {
   "cell_type": "markdown",
   "metadata": {},
   "source": [
    "### Other band (with different resolution)"
   ]
  },
  {
   "cell_type": "code",
   "execution_count": 23,
   "metadata": {},
   "outputs": [
    {
     "name": "stdout",
     "output_type": "stream",
     "text": [
      "href: https://sentinel-cogs.s3.us-west-2.amazonaws.com/sentinel-s2-l2a-cogs/10/T/FK/2021/7/S2B_10TFK_20210713_0_L2A/B04.tif\n",
      "Shape: (10980, 10980)\n",
      "Number of LC classes: 3394\n"
     ]
    },
    {
     "data": {
      "text/plain": [
       "array([[7271,  861],\n",
       "       [5391, 5192],\n",
       "       [5735, 6266],\n",
       "       [ 467, 4427],\n",
       "       [5579, 8323]])"
      ]
     },
     "execution_count": 23,
     "metadata": {},
     "output_type": "execute_result"
    }
   ],
   "source": [
    "# For B04 \n",
    "# Extract band\n",
    "b_href2 = item.assets['B04'].href\n",
    "print('href:', b_href2)\n",
    "\n",
    "# Get gdal object\n",
    "b_g2 = gdal.Open(b_href2)\n",
    "b_rst2 = b_g2.GetRasterBand(1)\n",
    "\n",
    "# Get array\n",
    "b_arr2 = b_rst2.ReadAsArray()\n",
    "print('Shape:', np.shape(b_arr2))\n",
    "n_cl2 = len(np.unique(b_arr2))\n",
    "print(f'Number of LC classes: {n_cl2}')\n",
    "\n",
    "# Define number of pixels \n",
    "np.random.seed(42) # keep this fixed \n",
    "\n",
    "# Generate array representing the pair of coordinates \n",
    "xy_s = np.random.randint(1, np.shape(b_arr2)[0], size=(no_pixels, 2))\n",
    "xy_s[:5]"
   ]
  },
  {
   "cell_type": "code",
   "execution_count": 13,
   "metadata": {},
   "outputs": [],
   "source": [
    "# bands = ['SCL'] #['SCL', 'B04']\n",
    "# for band in :\n",
    "#     # Extract bands\n",
    "#     b_href = item.assets[band].href\n",
    "\n",
    "#     # Get gdal object\n",
    "#     b_g = gdal.Open(b_href)\n",
    "#     scl_rst = scl_g.GetRasterBand(1)\n",
    "\n",
    "#     # Info about the image\n",
    "#     scl_arr = scl_rst.ReadAsArray()\n",
    "#     print('Shape:', np.shape(scl_arr))\n",
    "#     n_cl = len(np.unique(scl_arr))\n",
    "#     print(f'Number of LC classes: {n_cl}')"
   ]
  },
  {
   "cell_type": "markdown",
   "metadata": {},
   "source": [
    "### Extract values of selected band for each pair of coordinates"
   ]
  },
  {
   "cell_type": "code",
   "execution_count": 69,
   "metadata": {},
   "outputs": [],
   "source": [
    "x_values = []\n",
    "y_values = []\n",
    "\n",
    "# note that this will become a function, and as main paramtere will be source_g which is the gdal object of my input tif image  \n",
    "\n",
    "for pos in xy:\n",
    "    \n",
    "    x_values.append([*pixel_to_coords(b_g, pos[0], pos[1])])\n",
    "\n",
    "    y_values.append(\n",
    "        int(\n",
    "            b_rst.ReadAsArray(\n",
    "                xoff=int(pos[0]), yoff=int(pos[1]), win_xsize=1, win_ysize=1\n",
    "            )[0][0]\n",
    "        )\n",
    "    )\n",
    "# print(x_values[:10])\n",
    "# print(y_values[:10])"
   ]
  },
  {
   "cell_type": "markdown",
   "metadata": {},
   "source": [
    "## Make Pandas dataframe\n",
    "**Note**: The *pandas* dataframe will be used as input for the EDA Notebook from the ARSET training."
   ]
  },
  {
   "cell_type": "code",
   "execution_count": 71,
   "metadata": {},
   "outputs": [],
   "source": [
    "# make dictionary\n",
    "data = {'long': [x[0] for x in x_values], \n",
    "        'lat': [x[1] for x in x_values], \n",
    "        band: y_values}\n",
    "# data"
   ]
  },
  {
   "cell_type": "code",
   "execution_count": 72,
   "metadata": {},
   "outputs": [
    {
     "data": {
      "text/plain": [
       "array([[ 861, 5391],\n",
       "       [5227, 5192],\n",
       "       [3773, 3093],\n",
       "       [ 467, 5335],\n",
       "       [4427, 3445],\n",
       "       [3172, 2920],\n",
       "       [ 131, 1686],\n",
       "       [ 770, 2392],\n",
       "       [2434, 5312],\n",
       "       [5052, 1185]])"
      ]
     },
     "execution_count": 72,
     "metadata": {},
     "output_type": "execute_result"
    }
   ],
   "source": [
    "xy[:10]"
   ]
  },
  {
   "cell_type": "code",
   "execution_count": 73,
   "metadata": {},
   "outputs": [
    {
     "name": "stdout",
     "output_type": "stream",
     "text": [
      "Creating Dataframe\n",
      "            long         lat  SCL\n",
      "Index                            \n",
      "0      39.671405 -121.633305    5\n",
      "1      39.690800 -120.614640    4\n",
      "2      40.075266 -120.942279    4\n",
      "3      39.682539 -121.724972    5\n",
      "4      40.009060 -120.791033    4\n",
      "...          ...         ...  ...\n",
      "495    39.785007 -120.631006    4\n",
      "496    40.459491 -121.303745    4\n",
      "497    40.241506 -121.186469    6\n",
      "498    40.091115 -121.533920    4\n",
      "499    39.902230 -120.754232    4\n",
      "\n",
      "[500 rows x 3 columns]\n"
     ]
    }
   ],
   "source": [
    "if df is None: \n",
    "    print('Creating Dataframe')\n",
    "    # Create a DataFrame from the dictionary\n",
    "    df = pd.DataFrame(data)\n",
    "    df.index.name = 'Index'\n",
    "else: \n",
    "    print('Adding to existing Dataframe')\n",
    "    \n",
    "print(df)\n"
   ]
  },
  {
   "cell_type": "code",
   "execution_count": 74,
   "metadata": {},
   "outputs": [
    {
     "data": {
      "text/html": [
       "<div>\n",
       "<style scoped>\n",
       "    .dataframe tbody tr th:only-of-type {\n",
       "        vertical-align: middle;\n",
       "    }\n",
       "\n",
       "    .dataframe tbody tr th {\n",
       "        vertical-align: top;\n",
       "    }\n",
       "\n",
       "    .dataframe thead th {\n",
       "        text-align: right;\n",
       "    }\n",
       "</style>\n",
       "<table border=\"1\" class=\"dataframe\">\n",
       "  <thead>\n",
       "    <tr style=\"text-align: right;\">\n",
       "      <th></th>\n",
       "      <th>long</th>\n",
       "      <th>lat</th>\n",
       "      <th>SCL</th>\n",
       "    </tr>\n",
       "    <tr>\n",
       "      <th>Index</th>\n",
       "      <th></th>\n",
       "      <th></th>\n",
       "      <th></th>\n",
       "    </tr>\n",
       "  </thead>\n",
       "  <tbody>\n",
       "    <tr>\n",
       "      <th>0</th>\n",
       "      <td>39.671405</td>\n",
       "      <td>-121.633305</td>\n",
       "      <td>5</td>\n",
       "    </tr>\n",
       "    <tr>\n",
       "      <th>1</th>\n",
       "      <td>39.690800</td>\n",
       "      <td>-120.614640</td>\n",
       "      <td>4</td>\n",
       "    </tr>\n",
       "    <tr>\n",
       "      <th>2</th>\n",
       "      <td>40.075266</td>\n",
       "      <td>-120.942279</td>\n",
       "      <td>4</td>\n",
       "    </tr>\n",
       "    <tr>\n",
       "      <th>3</th>\n",
       "      <td>39.682539</td>\n",
       "      <td>-121.724972</td>\n",
       "      <td>5</td>\n",
       "    </tr>\n",
       "    <tr>\n",
       "      <th>4</th>\n",
       "      <td>40.009060</td>\n",
       "      <td>-120.791033</td>\n",
       "      <td>4</td>\n",
       "    </tr>\n",
       "    <tr>\n",
       "      <th>...</th>\n",
       "      <td>...</td>\n",
       "      <td>...</td>\n",
       "      <td>...</td>\n",
       "    </tr>\n",
       "    <tr>\n",
       "      <th>495</th>\n",
       "      <td>39.785007</td>\n",
       "      <td>-120.631006</td>\n",
       "      <td>4</td>\n",
       "    </tr>\n",
       "    <tr>\n",
       "      <th>496</th>\n",
       "      <td>40.459491</td>\n",
       "      <td>-121.303745</td>\n",
       "      <td>4</td>\n",
       "    </tr>\n",
       "    <tr>\n",
       "      <th>497</th>\n",
       "      <td>40.241506</td>\n",
       "      <td>-121.186469</td>\n",
       "      <td>6</td>\n",
       "    </tr>\n",
       "    <tr>\n",
       "      <th>498</th>\n",
       "      <td>40.091115</td>\n",
       "      <td>-121.533920</td>\n",
       "      <td>4</td>\n",
       "    </tr>\n",
       "    <tr>\n",
       "      <th>499</th>\n",
       "      <td>39.902230</td>\n",
       "      <td>-120.754232</td>\n",
       "      <td>4</td>\n",
       "    </tr>\n",
       "  </tbody>\n",
       "</table>\n",
       "<p>500 rows × 3 columns</p>\n",
       "</div>"
      ],
      "text/plain": [
       "            long         lat  SCL\n",
       "Index                            \n",
       "0      39.671405 -121.633305    5\n",
       "1      39.690800 -120.614640    4\n",
       "2      40.075266 -120.942279    4\n",
       "3      39.682539 -121.724972    5\n",
       "4      40.009060 -120.791033    4\n",
       "...          ...         ...  ...\n",
       "495    39.785007 -120.631006    4\n",
       "496    40.459491 -121.303745    4\n",
       "497    40.241506 -121.186469    6\n",
       "498    40.091115 -121.533920    4\n",
       "499    39.902230 -120.754232    4\n",
       "\n",
       "[500 rows x 3 columns]"
      ]
     },
     "execution_count": 74,
     "metadata": {},
     "output_type": "execute_result"
    }
   ],
   "source": [
    "import copy\n",
    "data_bk = copy.deepcopy(df)\n",
    "data_bk"
   ]
  },
  {
   "cell_type": "code",
   "execution_count": 75,
   "metadata": {},
   "outputs": [],
   "source": [
    "# Export dataframe \n",
    "df.to_csv('dataframe.csv')"
   ]
  },
  {
   "cell_type": "markdown",
   "metadata": {},
   "source": [
    "## Split dataset into train and validation"
   ]
  },
  {
   "cell_type": "code",
   "execution_count": 76,
   "metadata": {},
   "outputs": [
    {
     "name": "stdout",
     "output_type": "stream",
     "text": [
      "500 500\n"
     ]
    }
   ],
   "source": [
    "print(len(x_values), len(y_values))"
   ]
  },
  {
   "cell_type": "code",
   "execution_count": 77,
   "metadata": {},
   "outputs": [
    {
     "name": "stdout",
     "output_type": "stream",
     "text": [
      "400 400\n",
      "100 100\n"
     ]
    }
   ],
   "source": [
    "x_train, x_rem, y_train, y_rem = train_test_split(\n",
    "    np.array(x_values), np.array(y_values), train_size=0.8\n",
    ")\n",
    "print(len(x_train),len(y_train))\n",
    "print(len(x_rem),len(y_rem))"
   ]
  },
  {
   "cell_type": "code",
   "execution_count": 78,
   "metadata": {},
   "outputs": [
    {
     "name": "stdout",
     "output_type": "stream",
     "text": [
      "50 50\n",
      "50 50\n"
     ]
    }
   ],
   "source": [
    "x_valid, x_test, y_valid, y_test = train_test_split(\n",
    "    np.array(x_rem), np.array(y_rem), test_size=0.5\n",
    ")\n",
    "print(len(x_valid),len(y_valid))\n",
    "print(len(x_test),len(y_test))"
   ]
  },
  {
   "cell_type": "code",
   "execution_count": 79,
   "metadata": {},
   "outputs": [
    {
     "data": {
      "text/plain": [
       "((50, 2), (400, 2), (50, 2))"
      ]
     },
     "execution_count": 79,
     "metadata": {},
     "output_type": "execute_result"
    }
   ],
   "source": [
    "x_valid.shape, x_train.shape, x_test.shape"
   ]
  },
  {
   "cell_type": "code",
   "execution_count": 80,
   "metadata": {},
   "outputs": [
    {
     "data": {
      "text/plain": [
       "((50,), (400,), (50,))"
      ]
     },
     "execution_count": 80,
     "metadata": {},
     "output_type": "execute_result"
    }
   ],
   "source": [
    "y_valid.shape, y_train.shape, y_test.shape"
   ]
  },
  {
   "cell_type": "code",
   "execution_count": 81,
   "metadata": {},
   "outputs": [],
   "source": [
    "def to_geojson(t, x, y):\n",
    "    \"\"\"Converts the given x, y, and split dataset type (train, test, validate ) to a geojson file\n",
    "    The geojson file is saved in the current directory with the name label-{t}.geojson\n",
    "    \"\"\"\n",
    "\n",
    "    field_name = \"class\"\n",
    "    field_type = ogr.OFTInteger\n",
    "\n",
    "    # Create the output Driver\n",
    "    out_driver = ogr.GetDriverByName(\"GeoJSON\")\n",
    "\n",
    "    geojson_filename = f\"label-{t}.geojson\"\n",
    "    # Create the output GeoJSON\n",
    "    out_datasource = out_driver.CreateDataSource(geojson_filename)\n",
    "    out_layer = out_datasource.CreateLayer(\"labels\", geom_type=ogr.wkbPolygon)\n",
    "    id_field = ogr.FieldDefn(field_name, field_type)\n",
    "    out_layer.CreateField(id_field)\n",
    "    # Get the output Layer's Feature Definition\n",
    "    feature_def = out_layer.GetLayerDefn()\n",
    "\n",
    "    for index, v in enumerate(y):\n",
    "        point = ogr.Geometry(ogr.wkbPoint)\n",
    "        point.AddPoint(x[index][0], x[index][1])\n",
    "\n",
    "        # create a new feature\n",
    "        out_feature = ogr.Feature(feature_def)\n",
    "\n",
    "        # Set new geometry\n",
    "        out_feature.SetGeometry(point)\n",
    "\n",
    "        out_feature.SetField(field_name, int(v))\n",
    "        # Add new feature to output Layer\n",
    "        out_layer.CreateFeature(out_feature)\n",
    "\n",
    "        # dereference the feature\n",
    "        out_feature = None\n",
    "\n",
    "    # Save and close DataSources\n",
    "    out_datasource = None"
   ]
  },
  {
   "cell_type": "code",
   "execution_count": 82,
   "metadata": {},
   "outputs": [],
   "source": [
    "to_geojson(\"train2\", x_train, y_train)\n",
    "# to_geojson(\"test\", x_test, y_test)\n",
    "# to_geojson(\"validate\", x_valid, y_valid)"
   ]
  },
  {
   "cell_type": "code",
   "execution_count": null,
   "metadata": {},
   "outputs": [],
   "source": []
  }
 ],
 "metadata": {
  "kernelspec": {
   "display_name": "Python [conda env:.conda-env_labels]",
   "language": "python",
   "name": "conda-env-.conda-env_labels-py"
  },
  "language_info": {
   "codemirror_mode": {
    "name": "ipython",
    "version": 3
   },
   "file_extension": ".py",
   "mimetype": "text/x-python",
   "name": "python",
   "nbconvert_exporter": "python",
   "pygments_lexer": "ipython3",
   "version": "3.11.4"
  }
 },
 "nbformat": 4,
 "nbformat_minor": 4
}
