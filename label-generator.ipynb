{
 "cells": [
  {
   "cell_type": "code",
   "execution_count": 1,
   "metadata": {},
   "outputs": [],
   "source": [
    "import os\n",
    "from osgeo import gdal, ogr, osr\n",
    "from sklearn.model_selection import train_test_split\n",
    "import numpy as np\n",
    "import pandas as pd\n",
    "\n",
    "gdal.UseExceptions()"
   ]
  },
  {
   "cell_type": "code",
   "execution_count": 2,
   "metadata": {},
   "outputs": [],
   "source": [
    "aws_url = \"https://earth-search.aws.element84.com/v0/collections/sentinel-s2-l2a-cogs/items/S2A_10TFK_20220524_0_L2A\""
   ]
  },
  {
   "cell_type": "code",
   "execution_count": 3,
   "metadata": {},
   "outputs": [],
   "source": [
    "source = gdal.Open(\n",
    "    \"/vsicurl/https://sentinel-cogs.s3.us-west-2.amazonaws.com/sentinel-s2-l2a-cogs/10/T/FK/2021/7/S2B_10TFK_20210713_0_L2A/SCL.tif\"\n",
    ")\n",
    "\n",
    "scl = source.GetRasterBand(1)"
   ]
  },
  {
   "cell_type": "code",
   "execution_count": 4,
   "metadata": {},
   "outputs": [
    {
     "name": "stdout",
     "output_type": "stream",
     "text": [
      "Shape: (5490, 5490)\n",
      "Number of LC classes: 11\n"
     ]
    }
   ],
   "source": [
    "# Info about the image\n",
    "img = scl.ReadAsArray()\n",
    "print('Shape:', np.shape(img))\n",
    "n_cl = len(np.unique(img))\n",
    "print(f'Number of LC classes: {n_cl}')"
   ]
  },
  {
   "cell_type": "code",
   "execution_count": 5,
   "metadata": {},
   "outputs": [],
   "source": [
    "def pixel_to_coords(source, x, y):\n",
    "    \"\"\"Returns global coordinates in EPSG:4326 from pixel x, y coords\"\"\"\n",
    "\n",
    "    geo_transform = source.GetGeoTransform()\n",
    "\n",
    "    x_min = geo_transform[0]\n",
    "    x_size = geo_transform[1]\n",
    "    y_min = geo_transform[3]\n",
    "    y_size = geo_transform[5]\n",
    "    px = x * x_size + x_min\n",
    "    py = y * y_size + y_min\n",
    "\n",
    "    srs = osr.SpatialReference()\n",
    "    srs.ImportFromWkt(source.GetProjection())\n",
    "\n",
    "    srs_4326 = srs.CloneGeogCS()\n",
    "    ct = osr.CoordinateTransformation(srs, srs_4326)\n",
    "\n",
    "    long, lat, _ = ct.TransformPoint(px, py)\n",
    "\n",
    "    return long, lat"
   ]
  },
  {
   "cell_type": "code",
   "execution_count": 8,
   "metadata": {},
   "outputs": [],
   "source": [
    "os.environ['PROJ_DATA']='/srv/conda/envs/env_visual/share/proj/' # os.environ[\"GDAL_DATA\"] = \"/opt/conda/envs/env_label/share/gdal\"\n",
    "os.environ['GDAL_DATA']='/srv/conda/envs/env_visual/share/gdal/'"
   ]
  },
  {
   "cell_type": "code",
   "execution_count": 9,
   "metadata": {},
   "outputs": [
    {
     "data": {
      "text/plain": [
       "(-121.83433447992233, 39.65575725226219)"
      ]
     },
     "execution_count": 9,
     "metadata": {},
     "output_type": "execute_result"
    }
   ],
   "source": [
    "pixel_to_coords(source, 0, np.shape(img)[0])\n",
    "# pixel_to_coords(source, 861, 5391)"
   ]
  },
  {
   "cell_type": "code",
   "execution_count": 10,
   "metadata": {},
   "outputs": [
    {
     "data": {
      "text/plain": [
       "array([[ 861, 5391],\n",
       "       [5227, 5192],\n",
       "       [3773, 3093],\n",
       "       [ 467, 5335],\n",
       "       [4427, 3445]])"
      ]
     },
     "execution_count": 10,
     "metadata": {},
     "output_type": "execute_result"
    }
   ],
   "source": [
    "# Generate \n",
    "np.random.seed(42) # keep this fixed \n",
    "xy = np.random.randint(1, np.shape(img)[0], size=(500, 2))\n",
    "xy[:5]"
   ]
  },
  {
   "cell_type": "code",
   "execution_count": 11,
   "metadata": {},
   "outputs": [
    {
     "name": "stdout",
     "output_type": "stream",
     "text": [
      "[[-121.63330522527042, 39.6714049509491], [-120.61464030376956, 39.69079991941494], [-120.94227874261767, 40.07526633324874], [-121.7249722758687, 39.68253875396601], [-120.791033392279, 40.009059535172696], [-121.08229242170857, 40.10884005933172], [-121.79178069747134, 40.340761546680845], [-121.64389382043105, 40.21191559767241], [-121.26629118244627, 39.68074004844452], [-120.63056000456179, 40.413057814721775]]\n",
      "[5, 4, 4, 5, 4, 4, 5, 4, 5, 5]\n"
     ]
    }
   ],
   "source": [
    "x_values = []\n",
    "y_values = []\n",
    "\n",
    "for pos in xy:\n",
    "    \n",
    "    x_values.append([*pixel_to_coords(source, pos[0], pos[1])])\n",
    "\n",
    "    y_values.append(\n",
    "        int(\n",
    "            scl.ReadAsArray(\n",
    "                xoff=int(pos[0]), yoff=int(pos[1]), win_xsize=1, win_ysize=1\n",
    "            )[0][0]\n",
    "        )\n",
    "    )\n",
    "print(x_values[:10])\n",
    "print(y_values[:10])"
   ]
  },
  {
   "cell_type": "code",
   "execution_count": null,
   "metadata": {},
   "outputs": [],
   "source": []
  },
  {
   "cell_type": "code",
   "execution_count": null,
   "metadata": {},
   "outputs": [],
   "source": [
    "np.array(y_values).shape"
   ]
  },
  {
   "cell_type": "code",
   "execution_count": null,
   "metadata": {},
   "outputs": [],
   "source": [
    "x_train, x_rem, y_train, y_rem = train_test_split(\n",
    "    np.array(x_values), np.array(y_values), train_size=0.8\n",
    ")"
   ]
  },
  {
   "cell_type": "code",
   "execution_count": null,
   "metadata": {},
   "outputs": [],
   "source": [
    "x_valid, x_test, y_valid, y_test = train_test_split(\n",
    "    np.array(x_rem), np.array(y_rem), test_size=0.5\n",
    ")"
   ]
  },
  {
   "cell_type": "code",
   "execution_count": null,
   "metadata": {},
   "outputs": [],
   "source": [
    "x_valid.shape, x_train.shape, x_test.shape"
   ]
  },
  {
   "cell_type": "code",
   "execution_count": null,
   "metadata": {},
   "outputs": [],
   "source": [
    "y_valid.shape, y_train.shape, y_test.shape"
   ]
  },
  {
   "cell_type": "code",
   "execution_count": null,
   "metadata": {},
   "outputs": [],
   "source": [
    "y_valid"
   ]
  },
  {
   "cell_type": "code",
   "execution_count": null,
   "metadata": {},
   "outputs": [],
   "source": [
    "def to_geojson(t, x, y):\n",
    "    \"\"\"Converts the given x, y, and split dataset type (train, test, validate ) to a geojson file\n",
    "    The geojson file is saved in the current directory with the name label-{t}.geojson\n",
    "    \"\"\"\n",
    "\n",
    "    field_name = \"class\"\n",
    "    field_type = ogr.OFTInteger\n",
    "\n",
    "    # Create the output Driver\n",
    "    out_driver = ogr.GetDriverByName(\"GeoJSON\")\n",
    "\n",
    "    geojson_filename = f\"label-{t}.geojson\"\n",
    "    # Create the output GeoJSON\n",
    "    out_datasource = out_driver.CreateDataSource(geojson_filename)\n",
    "    out_layer = out_datasource.CreateLayer(\"labels\", geom_type=ogr.wkbPolygon)\n",
    "    id_field = ogr.FieldDefn(field_name, field_type)\n",
    "    out_layer.CreateField(id_field)\n",
    "    # Get the output Layer's Feature Definition\n",
    "    feature_def = out_layer.GetLayerDefn()\n",
    "\n",
    "    for index, v in enumerate(y):\n",
    "        point = ogr.Geometry(ogr.wkbPoint)\n",
    "        point.AddPoint(x[index][0], x[index][1])\n",
    "\n",
    "        # create a new feature\n",
    "        out_feature = ogr.Feature(feature_def)\n",
    "\n",
    "        # Set new geometry\n",
    "        out_feature.SetGeometry(point)\n",
    "\n",
    "        out_feature.SetField(field_name, int(v))\n",
    "        # Add new feature to output Layer\n",
    "        out_layer.CreateFeature(out_feature)\n",
    "\n",
    "        # dereference the feature\n",
    "        out_feature = None\n",
    "\n",
    "    # Save and close DataSources\n",
    "    out_datasource = None"
   ]
  },
  {
   "cell_type": "code",
   "execution_count": null,
   "metadata": {},
   "outputs": [],
   "source": [
    "to_geojson(\"train\", x_train, y_train)\n",
    "to_geojson(\"test\", x_test, y_test)\n",
    "to_geojson(\"validate\", x_valid, y_valid)"
   ]
  },
  {
   "cell_type": "code",
   "execution_count": null,
   "metadata": {},
   "outputs": [],
   "source": []
  }
 ],
 "metadata": {
  "kernelspec": {
   "display_name": "env_labels",
   "language": "python",
   "name": "env_labels"
  },
  "language_info": {
   "codemirror_mode": {
    "name": "ipython",
    "version": 3
   },
   "file_extension": ".py",
   "mimetype": "text/x-python",
   "name": "python",
   "nbconvert_exporter": "python",
   "pygments_lexer": "ipython3",
   "version": "3.11.4"
  }
 },
 "nbformat": 4,
 "nbformat_minor": 4
}
