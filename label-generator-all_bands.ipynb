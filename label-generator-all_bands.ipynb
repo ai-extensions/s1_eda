{
 "cells": [
  {
   "cell_type": "code",
   "execution_count": 1,
   "metadata": {},
   "outputs": [],
   "source": [
    "import os\n",
    "from osgeo import gdal, ogr, osr\n",
    "from sklearn.model_selection import train_test_split\n",
    "import numpy as np\n",
    "import pandas as pd\n",
    "import osgeo\n",
    "import copy\n",
    "\n",
    "gdal.UseExceptions()"
   ]
  },
  {
   "cell_type": "code",
   "execution_count": 2,
   "metadata": {},
   "outputs": [],
   "source": [
    "os.environ['PROJ_DATA']='/workspace/.conda/envs/env_labels/share/proj' \n",
    "# os.environ['GDAL_DATA']='/workspace/.conda/envs/env_labels/share/gdal'\n",
    "# os.environ['GTIFF_SRS_SOURCE'] = 'EPSG'"
   ]
  },
  {
   "cell_type": "code",
   "execution_count": 3,
   "metadata": {},
   "outputs": [],
   "source": [
    "import pystac\n",
    "from pystac import Link, Asset"
   ]
  },
  {
   "cell_type": "code",
   "execution_count": 4,
   "metadata": {},
   "outputs": [],
   "source": [
    "from pystac.extensions.label import LabelExtension\n",
    "from pystac.extensions.label import LabelType\n",
    "from pystac.extensions.label import LabelClasses\n",
    "from pystac.extensions.label import LabelStatistics\n",
    "\n",
    "from pystac.extensions.version import ItemVersionExtension"
   ]
  },
  {
   "cell_type": "code",
   "execution_count": 5,
   "metadata": {},
   "outputs": [],
   "source": [
    "# Set dataframe to None \n",
    "df = None"
   ]
  },
  {
   "cell_type": "code",
   "execution_count": 6,
   "metadata": {},
   "outputs": [],
   "source": [
    "def pixel_to_coords(source, x, y):\n",
    "    \"\"\"Returns global coordinates in EPSG:4326 from pixel x, y coords\"\"\"\n",
    "\n",
    "    geo_transform = source.GetGeoTransform()\n",
    "\n",
    "    x_min = geo_transform[0]\n",
    "    x_size = geo_transform[1]\n",
    "    y_min = geo_transform[3]\n",
    "    y_size = geo_transform[5]\n",
    "    px = x * x_size + x_min\n",
    "    py = y * y_size + y_min\n",
    "\n",
    "    srs = osr.SpatialReference()\n",
    "    \n",
    "    # GDAL 3 changes axis order: https://github.com/OSGeo/gdal/issues/1546\n",
    "    if int(osgeo.__version__[0]) >= 3:\n",
    "        srs.SetAxisMappingStrategy(osgeo.osr.OAMS_TRADITIONAL_GIS_ORDER)\n",
    "    \n",
    "    srs.ImportFromWkt(source.GetProjection())\n",
    "\n",
    "    srs_4326 = srs.CloneGeogCS()\n",
    "    ct = osr.CoordinateTransformation(srs, srs_4326)\n",
    "\n",
    "    long, lat, _ = ct.TransformPoint(px, py)\n",
    "\n",
    "    return long, lat"
   ]
  },
  {
   "cell_type": "markdown",
   "metadata": {},
   "source": [
    "## Read STAC Item"
   ]
  },
  {
   "cell_type": "code",
   "execution_count": 7,
   "metadata": {},
   "outputs": [
    {
     "data": {
      "text/plain": [
       "{'datetime': '2021-07-13T19:03:24Z',\n",
       " 'platform': 'sentinel-2b',\n",
       " 'constellation': 'sentinel-2',\n",
       " 'instruments': ['msi'],\n",
       " 'gsd': 10,\n",
       " 'view:off_nadir': 0,\n",
       " 'proj:epsg': 32610,\n",
       " 'sentinel:utm_zone': 10,\n",
       " 'sentinel:latitude_band': 'T',\n",
       " 'sentinel:grid_square': 'FK',\n",
       " 'sentinel:sequence': '0',\n",
       " 'sentinel:product_id': 'S2B_MSIL2A_20210713T184919_N0301_R113_T10TFK_20210713T213143',\n",
       " 'sentinel:data_coverage': 100,\n",
       " 'eo:cloud_cover': 0,\n",
       " 'sentinel:valid_cloud_cover': True,\n",
       " 'created': '2021-07-13T23:57:53.846Z',\n",
       " 'updated': '2021-07-13T23:57:53.846Z'}"
      ]
     },
     "metadata": {},
     "output_type": "display_data"
    }
   ],
   "source": [
    "aws_url = \"https://earth-search.aws.element84.com/v0/collections/sentinel-s2-l2a-cogs/items/S2B_10TFK_20210713_0_L2A\"\n",
    "item = pystac.read_file(aws_url)\n",
    "display(item.properties)"
   ]
  },
  {
   "cell_type": "code",
   "execution_count": 8,
   "metadata": {},
   "outputs": [
    {
     "name": "stdout",
     "output_type": "stream",
     "text": [
      "Available bands: ['thumbnail', 'overview', 'info', 'metadata', 'visual', 'B01', 'B02', 'B03', 'B04', 'B05', 'B06', 'B07', 'B08', 'B8A', 'B09', 'B11', 'B12', 'AOT', 'WVP', 'SCL']\n"
     ]
    }
   ],
   "source": [
    "print(f'Available bands: {list(item.assets.keys())}')"
   ]
  },
  {
   "cell_type": "markdown",
   "metadata": {},
   "source": [
    "## Extract values of selected band(s) for a defined random number of pixels\n",
    "Select a band with highest resolution, ie `B02`, `B03`, `B04`, `B08`."
   ]
  },
  {
   "cell_type": "code",
   "execution_count": 9,
   "metadata": {},
   "outputs": [],
   "source": [
    "high_res_bands = ['B02', 'B03', 'B04', 'B08']"
   ]
  },
  {
   "cell_type": "code",
   "execution_count": 52,
   "metadata": {},
   "outputs": [],
   "source": [
    "band = 'B04' # 'B04'\n",
    "assert band in high_res_bands, f'choose high res. band, ie {high_res_bands}'"
   ]
  },
  {
   "cell_type": "code",
   "execution_count": 53,
   "metadata": {},
   "outputs": [
    {
     "name": "stdout",
     "output_type": "stream",
     "text": [
      "Band: B04\n",
      "- Res: 10m\n",
      "- href: https://sentinel-cogs.s3.us-west-2.amazonaws.com/sentinel-s2-l2a-cogs/10/T/FK/2021/7/S2B_10TFK_20210713_0_L2A/B04.tif\n"
     ]
    }
   ],
   "source": [
    "print('Band:', band)\n",
    "print(f'- Res: {item.assets[band].to_dict()[\"gsd\"]}m')\n",
    "# Extract band\n",
    "b_href = item.assets[band].href\n",
    "print('- href:', b_href)\n",
    "\n",
    "# Get gdal object\n",
    "b_g_10m = gdal.Open(b_href)\n",
    "# b_rst = b_g.GetRasterBand(1)\n",
    "\n",
    "# # Get array\n",
    "# b_arr = b_rst.ReadAsArray()\n",
    "# print('- Shape:', np.shape(b_arr))\n",
    "# # n_cl = len(np.unique(b_arr))\n",
    "# # print(f'- Number of LC classes: {n_cl}')"
   ]
  },
  {
   "cell_type": "code",
   "execution_count": 54,
   "metadata": {},
   "outputs": [],
   "source": [
    "# Run the function for testing\n",
    "assert pixel_to_coords(b_g_10m, 100, 100) == (-121.8056363767779, 40.63567108385486)"
   ]
  },
  {
   "cell_type": "markdown",
   "metadata": {
    "tags": []
   },
   "source": [
    "### Generate (fixed) random sample of image coordinates "
   ]
  },
  {
   "cell_type": "code",
   "execution_count": 55,
   "metadata": {},
   "outputs": [
    {
     "data": {
      "text/plain": [
       "array([[7271,  861],\n",
       "       [5391, 5192],\n",
       "       [5735, 6266],\n",
       "       [ 467, 4427],\n",
       "       [5579, 8323]])"
      ]
     },
     "execution_count": 55,
     "metadata": {},
     "output_type": "execute_result"
    }
   ],
   "source": [
    "# Define number of pixels \n",
    "no_pixels = 500 \n",
    "np.random.seed(42) # keep this fixed \n",
    "\n",
    "# Generate array representing the pair of coordinates \n",
    "# xy = np.random.randint(1, np.shape(b_arr)[0], size=(no_pixels, 2))\n",
    "xy = np.random.randint(1, 10980, size=(no_pixels, 2))\n",
    "\n",
    "xy[:5]"
   ]
  },
  {
   "cell_type": "markdown",
   "metadata": {},
   "source": [
    "### Extract values of a specific band for each pair of coordinates"
   ]
  },
  {
   "cell_type": "code",
   "execution_count": 56,
   "metadata": {},
   "outputs": [],
   "source": [
    "band = 'SCL'"
   ]
  },
  {
   "cell_type": "code",
   "execution_count": 62,
   "metadata": {},
   "outputs": [
    {
     "name": "stdout",
     "output_type": "stream",
     "text": [
      "Working on band: SCL\n"
     ]
    }
   ],
   "source": [
    "print('Working on band:', band)\n",
    "\n",
    "# Open gdal object and get raster band\n",
    "b_g = gdal.Open(item.assets[band].href)\n",
    "b_rst = b_g.GetRasterBand(1)"
   ]
  },
  {
   "cell_type": "code",
   "execution_count": 44,
   "metadata": {},
   "outputs": [],
   "source": [
    "# # Open gdal object and get raster band\n",
    "# s_g = gdal.Open(item.assets['SCL'].href)\n",
    "# s_rst = s_g.GetRasterBand(1)"
   ]
  },
  {
   "cell_type": "code",
   "execution_count": 45,
   "metadata": {},
   "outputs": [],
   "source": [
    "# pixel_to_coords(b_g, 7271, 861)"
   ]
  },
  {
   "cell_type": "code",
   "execution_count": 46,
   "metadata": {},
   "outputs": [],
   "source": [
    "# pixel_to_coords(s_g, 7271, 861)"
   ]
  },
  {
   "cell_type": "code",
   "execution_count": 47,
   "metadata": {},
   "outputs": [],
   "source": [
    "# geo_transform_b = b_g.GetGeoTransform()\n",
    "# geo_transform_s = s_g.GetGeoTransform()\n",
    "# print('geo_transform_b', geo_transform_b)\n",
    "# print('geo_transform_s', geo_transform_s)"
   ]
  },
  {
   "cell_type": "code",
   "execution_count": 33,
   "metadata": {},
   "outputs": [],
   "source": [
    "# xy[:10]"
   ]
  },
  {
   "cell_type": "code",
   "execution_count": 34,
   "metadata": {},
   "outputs": [],
   "source": [
    "# xy2 = np.round(xy/2, 0).astype(int)\n",
    "# xy2[:10]"
   ]
  },
  {
   "cell_type": "code",
   "execution_count": 58,
   "metadata": {},
   "outputs": [
    {
     "data": {
      "text/plain": [
       "array([[3636.,  430.],\n",
       "       [2696., 2596.],\n",
       "       [2868., 3133.],\n",
       "       [ 234., 2214.],\n",
       "       [2790., 4162.],\n",
       "       [ 843.,  385.],\n",
       "       [5292., 3475.],\n",
       "       [1217., 2656.],\n",
       "       [2526., 3210.],\n",
       "       [ 592., 2278.]])"
      ]
     },
     "execution_count": 58,
     "metadata": {},
     "output_type": "execute_result"
    }
   ],
   "source": [
    "np.round(xy/2, 0)[:10]"
   ]
  },
  {
   "cell_type": "code",
   "execution_count": 59,
   "metadata": {},
   "outputs": [
    {
     "data": {
      "text/plain": [
       "array([[ 7271,   861],\n",
       "       [ 5391,  5192],\n",
       "       [ 5735,  6266],\n",
       "       [  467,  4427],\n",
       "       [ 5579,  8323],\n",
       "       [ 1686,   770],\n",
       "       [10584,  6950],\n",
       "       [ 2434,  5312],\n",
       "       [ 5052,  6421],\n",
       "       [ 1185,  4556]])"
      ]
     },
     "execution_count": 59,
     "metadata": {},
     "output_type": "execute_result"
    }
   ],
   "source": [
    "xy[:10]"
   ]
  },
  {
   "cell_type": "code",
   "execution_count": 63,
   "metadata": {},
   "outputs": [
    {
     "name": "stdout",
     "output_type": "stream",
     "text": [
      "Extracting values\n",
      "Rescaling to res = 20m\n"
     ]
    },
    {
     "data": {
      "text/plain": [
       "array([[3636.,  430.],\n",
       "       [2696., 2596.],\n",
       "       [2868., 3133.],\n",
       "       [ 234., 2214.],\n",
       "       [2790., 4162.],\n",
       "       [ 843.,  385.],\n",
       "       [5292., 3475.],\n",
       "       [1217., 2656.],\n",
       "       [2526., 3210.],\n",
       "       [ 592., 2278.]])"
      ]
     },
     "metadata": {},
     "output_type": "display_data"
    },
    {
     "name": "stdout",
     "output_type": "stream",
     "text": [
      "[[-120.96012778569894, 40.55527781468857], [-121.19251157034941, 40.168990282416786], [-121.15474969268766, 40.0716397686962], [-121.7693750098431, 40.24548034397307], [-121.177963156973, 39.88669153535598], [-121.61937653607472, 40.57323757988562], [-120.58869608519073, 39.999619134722295], [-121.53988808239271, 40.163082567554305], [-121.23516902776696, 40.058929293462704], [-121.68520356464738, 40.232932915840905]]\n",
      "[4, 4, 4, 4, 6, 4, 4, 4, 5, 5]\n"
     ]
    }
   ],
   "source": [
    "print('Extracting values')\n",
    "x_values = []\n",
    "y_values = []\n",
    "\n",
    "if b_g.GetGeoTransform()[1] == 10:\n",
    "    print(\"res = 10m, no need to rescale\")\n",
    "    \n",
    "    for pos in xy:\n",
    "\n",
    "        x_values.append([*pixel_to_coords(b_g_10m, pos[0], pos[1])])\n",
    "\n",
    "        y_values.append(\n",
    "            int(\n",
    "                b_rst.ReadAsArray(\n",
    "                    xoff=int(pos[0]), yoff=int(pos[1]), win_xsize=1, win_ysize=1\n",
    "                )[0][0]\n",
    "            )\n",
    "        )\n",
    "\n",
    "elif b_g.GetGeoTransform()[1] == 20:\n",
    "    print(\"Rescaling to res = 20m\")\n",
    "    \n",
    "    # Need to find the pixel index of the raster which shape is half the size of the high res band, so need to divide by a factor of 2\n",
    "    xy2 = np.round(xy/2, 0)\n",
    "    \n",
    "    for pos,pos2 in zip(xy,xy2):\n",
    "\n",
    "        x_values.append([*pixel_to_coords(b_g_10m, pos[0], pos[1])]) # b_g must be the same as the pair of coordinates must be the same for all bands \n",
    "\n",
    "        y_values.append(\n",
    "            int(\n",
    "                b_rst.ReadAsArray(\n",
    "                    xoff=int(pos2[0]), yoff=int(pos2[1]), win_xsize=1, win_ysize=1\n",
    "                )[0][0]\n",
    "            )\n",
    "        )\n",
    "\n",
    "# Empty b_rst\n",
    "b_rst = None\n",
    "\n",
    "print(x_values[:10])\n",
    "print(y_values[:10])"
   ]
  },
  {
   "cell_type": "code",
   "execution_count": null,
   "metadata": {},
   "outputs": [],
   "source": []
  },
  {
   "cell_type": "markdown",
   "metadata": {},
   "source": [
    "## Make Pandas dataframe\n",
    "**Note**: The *pandas* dataframe will be used as input for the EDA Notebook from the ARSET training."
   ]
  },
  {
   "cell_type": "code",
   "execution_count": 64,
   "metadata": {},
   "outputs": [],
   "source": [
    "# make dictionary\n",
    "data = {'long': [x[0] for x in x_values], \n",
    "        'lat': [x[1] for x in x_values], \n",
    "        band: y_values}\n",
    "# data"
   ]
  },
  {
   "cell_type": "code",
   "execution_count": 65,
   "metadata": {},
   "outputs": [
    {
     "name": "stdout",
     "output_type": "stream",
     "text": [
      "Adding to existing Dataframe\n"
     ]
    },
    {
     "data": {
      "text/html": [
       "<div>\n",
       "<style scoped>\n",
       "    .dataframe tbody tr th:only-of-type {\n",
       "        vertical-align: middle;\n",
       "    }\n",
       "\n",
       "    .dataframe tbody tr th {\n",
       "        vertical-align: top;\n",
       "    }\n",
       "\n",
       "    .dataframe thead th {\n",
       "        text-align: right;\n",
       "    }\n",
       "</style>\n",
       "<table border=\"1\" class=\"dataframe\">\n",
       "  <thead>\n",
       "    <tr style=\"text-align: right;\">\n",
       "      <th></th>\n",
       "      <th>long</th>\n",
       "      <th>lat</th>\n",
       "      <th>B04</th>\n",
       "      <th>B02</th>\n",
       "      <th>SCL</th>\n",
       "    </tr>\n",
       "    <tr>\n",
       "      <th>Index</th>\n",
       "      <th></th>\n",
       "      <th></th>\n",
       "      <th></th>\n",
       "      <th></th>\n",
       "      <th></th>\n",
       "    </tr>\n",
       "  </thead>\n",
       "  <tbody>\n",
       "    <tr>\n",
       "      <th>0</th>\n",
       "      <td>-120.960128</td>\n",
       "      <td>40.555278</td>\n",
       "      <td>510</td>\n",
       "      <td>291</td>\n",
       "      <td>4</td>\n",
       "    </tr>\n",
       "    <tr>\n",
       "      <th>1</th>\n",
       "      <td>-121.192512</td>\n",
       "      <td>40.168990</td>\n",
       "      <td>394</td>\n",
       "      <td>250</td>\n",
       "      <td>4</td>\n",
       "    </tr>\n",
       "    <tr>\n",
       "      <th>2</th>\n",
       "      <td>-121.154750</td>\n",
       "      <td>40.071640</td>\n",
       "      <td>369</td>\n",
       "      <td>230</td>\n",
       "      <td>4</td>\n",
       "    </tr>\n",
       "    <tr>\n",
       "      <th>3</th>\n",
       "      <td>-121.769375</td>\n",
       "      <td>40.245480</td>\n",
       "      <td>241</td>\n",
       "      <td>183</td>\n",
       "      <td>4</td>\n",
       "    </tr>\n",
       "    <tr>\n",
       "      <th>4</th>\n",
       "      <td>-121.177963</td>\n",
       "      <td>39.886692</td>\n",
       "      <td>220</td>\n",
       "      <td>258</td>\n",
       "      <td>6</td>\n",
       "    </tr>\n",
       "    <tr>\n",
       "      <th>...</th>\n",
       "      <td>...</td>\n",
       "      <td>...</td>\n",
       "      <td>...</td>\n",
       "      <td>...</td>\n",
       "      <td>...</td>\n",
       "    </tr>\n",
       "    <tr>\n",
       "      <th>495</th>\n",
       "      <td>-120.577296</td>\n",
       "      <td>40.370247</td>\n",
       "      <td>1352</td>\n",
       "      <td>819</td>\n",
       "      <td>5</td>\n",
       "    </tr>\n",
       "    <tr>\n",
       "      <th>496</th>\n",
       "      <td>-121.487336</td>\n",
       "      <td>40.461230</td>\n",
       "      <td>600</td>\n",
       "      <td>384</td>\n",
       "      <td>5</td>\n",
       "    </tr>\n",
       "    <tr>\n",
       "      <th>497</th>\n",
       "      <td>-120.619159</td>\n",
       "      <td>40.311844</td>\n",
       "      <td>270</td>\n",
       "      <td>235</td>\n",
       "      <td>4</td>\n",
       "    </tr>\n",
       "    <tr>\n",
       "      <th>498</th>\n",
       "      <td>-120.740778</td>\n",
       "      <td>39.909446</td>\n",
       "      <td>352</td>\n",
       "      <td>108</td>\n",
       "      <td>4</td>\n",
       "    </tr>\n",
       "    <tr>\n",
       "      <th>499</th>\n",
       "      <td>-121.627961</td>\n",
       "      <td>40.621445</td>\n",
       "      <td>432</td>\n",
       "      <td>287</td>\n",
       "      <td>4</td>\n",
       "    </tr>\n",
       "  </tbody>\n",
       "</table>\n",
       "<p>500 rows × 5 columns</p>\n",
       "</div>"
      ],
      "text/plain": [
       "             long        lat   B04  B02  SCL\n",
       "Index                                       \n",
       "0     -120.960128  40.555278   510  291    4\n",
       "1     -121.192512  40.168990   394  250    4\n",
       "2     -121.154750  40.071640   369  230    4\n",
       "3     -121.769375  40.245480   241  183    4\n",
       "4     -121.177963  39.886692   220  258    6\n",
       "...           ...        ...   ...  ...  ...\n",
       "495   -120.577296  40.370247  1352  819    5\n",
       "496   -121.487336  40.461230   600  384    5\n",
       "497   -120.619159  40.311844   270  235    4\n",
       "498   -120.740778  39.909446   352  108    4\n",
       "499   -121.627961  40.621445   432  287    4\n",
       "\n",
       "[500 rows x 5 columns]"
      ]
     },
     "metadata": {},
     "output_type": "display_data"
    }
   ],
   "source": [
    "if df is None: \n",
    "    print('Creating Dataframe')\n",
    "    # Create a DataFrame from the dictionary\n",
    "    df = pd.DataFrame(data)\n",
    "    df.index.name = 'Index'\n",
    "    \n",
    "    # Create backup\n",
    "    data_bk = copy.deepcopy(df)\n",
    "\n",
    "else: \n",
    "    print('Adding to existing Dataframe')\n",
    "    \n",
    "    # Create temp dataframe\n",
    "    df2 = pd.DataFrame(data)\n",
    "    df2.index.name = 'Index'\n",
    "    \n",
    "    # Assert the two dataframes have the same long and lat values\n",
    "    assert df['long'].isin(df2['long']).value_counts().values[0] == no_pixels\n",
    "    assert df['lat'].isin(df2['lat']).value_counts().values[0] == no_pixels\n",
    "    \n",
    "    # Merge temp dataframe with original dataframe, based on matching columns\n",
    "    df = pd.merge(df, df2, on=['Index', 'long', 'lat'])   \n",
    "    # Empty memory\n",
    "    df2 = None\n",
    "    \n",
    "display(df)"
   ]
  },
  {
   "cell_type": "code",
   "execution_count": null,
   "metadata": {},
   "outputs": [],
   "source": [
    "# Export dataframe \n",
    "df.to_csv('dataframe_multiband.csv')"
   ]
  },
  {
   "cell_type": "markdown",
   "metadata": {},
   "source": [
    "## Split dataset into train and validation"
   ]
  },
  {
   "cell_type": "code",
   "execution_count": null,
   "metadata": {},
   "outputs": [],
   "source": [
    "x_values[:10]"
   ]
  },
  {
   "cell_type": "code",
   "execution_count": null,
   "metadata": {},
   "outputs": [],
   "source": [
    "print(len(x_values), len(y_values))"
   ]
  },
  {
   "cell_type": "code",
   "execution_count": null,
   "metadata": {},
   "outputs": [],
   "source": [
    "x_train, x_rem, y_train, y_rem = train_test_split(\n",
    "    np.array(x_values), np.array(y_values), train_size=0.8\n",
    ")\n",
    "print(len(x_train),len(y_train))\n",
    "print(len(x_rem),len(y_rem))"
   ]
  },
  {
   "cell_type": "code",
   "execution_count": null,
   "metadata": {},
   "outputs": [],
   "source": [
    "x_valid, x_test, y_valid, y_test = train_test_split(\n",
    "    np.array(x_rem), np.array(y_rem), test_size=0.5\n",
    ")\n",
    "print(len(x_valid),len(y_valid))\n",
    "print(len(x_test),len(y_test))"
   ]
  },
  {
   "cell_type": "code",
   "execution_count": null,
   "metadata": {},
   "outputs": [],
   "source": [
    "x_valid.shape, x_train.shape, x_test.shape"
   ]
  },
  {
   "cell_type": "code",
   "execution_count": null,
   "metadata": {},
   "outputs": [],
   "source": [
    "y_valid.shape, y_train.shape, y_test.shape"
   ]
  },
  {
   "cell_type": "code",
   "execution_count": null,
   "metadata": {},
   "outputs": [],
   "source": [
    "def to_geojson(t, x, y):\n",
    "    \"\"\"Converts the given x, y, and split dataset type (train, test, validate ) to a geojson file\n",
    "    The geojson file is saved in the current directory with the name label-{t}.geojson\n",
    "    \"\"\"\n",
    "\n",
    "    field_name = \"class\"\n",
    "    field_type = ogr.OFTInteger\n",
    "\n",
    "    # Create the output Driver\n",
    "    out_driver = ogr.GetDriverByName(\"GeoJSON\")\n",
    "\n",
    "    geojson_filename = f\"label-{t}.geojson\"\n",
    "    # Create the output GeoJSON\n",
    "    out_datasource = out_driver.CreateDataSource(geojson_filename)\n",
    "    out_layer = out_datasource.CreateLayer(\"labels\", geom_type=ogr.wkbPolygon)\n",
    "    id_field = ogr.FieldDefn(field_name, field_type)\n",
    "    out_layer.CreateField(id_field)\n",
    "    # Get the output Layer's Feature Definition\n",
    "    feature_def = out_layer.GetLayerDefn()\n",
    "\n",
    "    for index, v in enumerate(y):\n",
    "        point = ogr.Geometry(ogr.wkbPoint)\n",
    "        point.AddPoint(x[index][0], x[index][1])\n",
    "\n",
    "        # create a new feature\n",
    "        out_feature = ogr.Feature(feature_def)\n",
    "\n",
    "        # Set new geometry\n",
    "        out_feature.SetGeometry(point)\n",
    "\n",
    "        out_feature.SetField(field_name, int(v))\n",
    "        # Add new feature to output Layer\n",
    "        out_layer.CreateFeature(out_feature)\n",
    "\n",
    "        # dereference the feature\n",
    "        out_feature = None\n",
    "\n",
    "    # Save and close DataSources\n",
    "    out_datasource = None"
   ]
  },
  {
   "cell_type": "code",
   "execution_count": null,
   "metadata": {},
   "outputs": [],
   "source": [
    "to_geojson(f\"train_{band}_3\", x_train, y_train)\n",
    "# to_geojson(f\"test_{band}\", x_test, y_test)\n",
    "# to_geojson(f\"validate_{band}\", x_valid, y_valid)"
   ]
  },
  {
   "cell_type": "code",
   "execution_count": null,
   "metadata": {},
   "outputs": [],
   "source": []
  }
 ],
 "metadata": {
  "kernelspec": {
   "display_name": "Python [conda env:.conda-env_labels_light]",
   "language": "python",
   "name": "conda-env-.conda-env_labels_light-py"
  },
  "language_info": {
   "codemirror_mode": {
    "name": "ipython",
    "version": 3
   },
   "file_extension": ".py",
   "mimetype": "text/x-python",
   "name": "python",
   "nbconvert_exporter": "python",
   "pygments_lexer": "ipython3",
   "version": "3.11.4"
  }
 },
 "nbformat": 4,
 "nbformat_minor": 4
}
