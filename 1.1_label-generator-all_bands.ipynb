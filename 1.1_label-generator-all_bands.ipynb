{
 "cells": [
  {
   "cell_type": "code",
   "execution_count": 1,
   "metadata": {},
   "outputs": [],
   "source": [
    "import os\n",
    "from osgeo import gdal, ogr, osr\n",
    "from sklearn.model_selection import train_test_split\n",
    "import numpy as np\n",
    "import pandas as pd\n",
    "import osgeo\n",
    "import copy\n",
    "\n",
    "gdal.UseExceptions()"
   ]
  },
  {
   "cell_type": "code",
   "execution_count": 2,
   "metadata": {},
   "outputs": [],
   "source": [
    "os.environ['PROJ_DATA']='/workspace/.conda/envs/env_labels/share/proj' \n",
    "# os.environ['GDAL_DATA']='/workspace/.conda/envs/env_labels/share/gdal'\n",
    "# os.environ['GTIFF_SRS_SOURCE'] = 'EPSG'"
   ]
  },
  {
   "cell_type": "code",
   "execution_count": 3,
   "metadata": {},
   "outputs": [],
   "source": [
    "import pystac\n",
    "from pystac import Link, Asset"
   ]
  },
  {
   "cell_type": "code",
   "execution_count": 4,
   "metadata": {},
   "outputs": [],
   "source": [
    "from pystac.extensions.label import LabelExtension\n",
    "from pystac.extensions.label import LabelType\n",
    "from pystac.extensions.label import LabelClasses\n",
    "from pystac.extensions.label import LabelStatistics\n",
    "\n",
    "from pystac.extensions.version import ItemVersionExtension"
   ]
  },
  {
   "cell_type": "code",
   "execution_count": 5,
   "metadata": {},
   "outputs": [],
   "source": [
    "# Set dataframe to None \n",
    "df = None"
   ]
  },
  {
   "cell_type": "code",
   "execution_count": 6,
   "metadata": {},
   "outputs": [],
   "source": [
    "def pixel_to_coords(source, x, y):\n",
    "    \"\"\"Returns global coordinates in EPSG:4326 from pixel x, y coords\"\"\"\n",
    "\n",
    "    geo_transform = source.GetGeoTransform()\n",
    "\n",
    "    x_min = geo_transform[0]\n",
    "    x_size = geo_transform[1]\n",
    "    y_min = geo_transform[3]\n",
    "    y_size = geo_transform[5]\n",
    "    px = x * x_size + x_min\n",
    "    py = y * y_size + y_min\n",
    "\n",
    "    srs = osr.SpatialReference()\n",
    "    \n",
    "    # GDAL 3 changes axis order: https://github.com/OSGeo/gdal/issues/1546\n",
    "    if int(osgeo.__version__[0]) >= 3:\n",
    "        srs.SetAxisMappingStrategy(osgeo.osr.OAMS_TRADITIONAL_GIS_ORDER)\n",
    "    \n",
    "    srs.ImportFromWkt(source.GetProjection())\n",
    "\n",
    "    srs_4326 = srs.CloneGeogCS()\n",
    "    ct = osr.CoordinateTransformation(srs, srs_4326)\n",
    "\n",
    "    long, lat, _ = ct.TransformPoint(px, py)\n",
    "\n",
    "    return long, lat"
   ]
  },
  {
   "cell_type": "markdown",
   "metadata": {},
   "source": [
    "## Read STAC Item"
   ]
  },
  {
   "cell_type": "code",
   "execution_count": 7,
   "metadata": {},
   "outputs": [
    {
     "data": {
      "text/plain": [
       "{'datetime': '2021-07-13T19:03:24Z',\n",
       " 'platform': 'sentinel-2b',\n",
       " 'constellation': 'sentinel-2',\n",
       " 'instruments': ['msi'],\n",
       " 'gsd': 10,\n",
       " 'view:off_nadir': 0,\n",
       " 'proj:epsg': 32610,\n",
       " 'sentinel:utm_zone': 10,\n",
       " 'sentinel:latitude_band': 'T',\n",
       " 'sentinel:grid_square': 'FK',\n",
       " 'sentinel:sequence': '0',\n",
       " 'sentinel:product_id': 'S2B_MSIL2A_20210713T184919_N0301_R113_T10TFK_20210713T213143',\n",
       " 'sentinel:data_coverage': 100,\n",
       " 'eo:cloud_cover': 0,\n",
       " 'sentinel:valid_cloud_cover': True,\n",
       " 'created': '2021-07-13T23:57:53.846Z',\n",
       " 'updated': '2021-07-13T23:57:53.846Z'}"
      ]
     },
     "metadata": {},
     "output_type": "display_data"
    }
   ],
   "source": [
    "aws_url = \"https://earth-search.aws.element84.com/v0/collections/sentinel-s2-l2a-cogs/items/S2B_10TFK_20210713_0_L2A\"\n",
    "item = pystac.read_file(aws_url)\n",
    "display(item.properties)"
   ]
  },
  {
   "cell_type": "code",
   "execution_count": 8,
   "metadata": {},
   "outputs": [
    {
     "name": "stdout",
     "output_type": "stream",
     "text": [
      "Available bands: ['thumbnail', 'overview', 'info', 'metadata', 'visual', 'B01', 'B02', 'B03', 'B04', 'B05', 'B06', 'B07', 'B08', 'B8A', 'B09', 'B11', 'B12', 'AOT', 'WVP', 'SCL']\n"
     ]
    }
   ],
   "source": [
    "print(f'Available bands: {list(item.assets.keys())}')"
   ]
  },
  {
   "cell_type": "markdown",
   "metadata": {},
   "source": [
    "## Extract values of selected band(s) for a defined random number of pixels\n",
    "Select a band with highest resolution, ie `B02`, `B03`, `B04`, `B08`."
   ]
  },
  {
   "cell_type": "code",
   "execution_count": 9,
   "metadata": {},
   "outputs": [],
   "source": [
    "high_res_bands = ['B02', 'B03', 'B04', 'B08']"
   ]
  },
  {
   "cell_type": "code",
   "execution_count": 10,
   "metadata": {},
   "outputs": [],
   "source": [
    "band = 'B04' # 'B04'\n",
    "assert band in high_res_bands, f'choose high res. band, ie {high_res_bands}'"
   ]
  },
  {
   "cell_type": "code",
   "execution_count": 11,
   "metadata": {},
   "outputs": [
    {
     "name": "stdout",
     "output_type": "stream",
     "text": [
      "Band: B04\n",
      "- Res: 10m\n",
      "- href: https://sentinel-cogs.s3.us-west-2.amazonaws.com/sentinel-s2-l2a-cogs/10/T/FK/2021/7/S2B_10TFK_20210713_0_L2A/B04.tif\n"
     ]
    }
   ],
   "source": [
    "print('Band:', band)\n",
    "print(f'- Res: {item.assets[band].to_dict()[\"gsd\"]}m')\n",
    "# Extract band\n",
    "b_href = item.assets[band].href\n",
    "print('- href:', b_href)\n",
    "\n",
    "# Get gdal object\n",
    "b_g_10m = gdal.Open(b_href)\n",
    "# b_rst = b_g.GetRasterBand(1)\n",
    "\n",
    "# # Get array\n",
    "# b_arr = b_rst.ReadAsArray()\n",
    "# print('- Shape:', np.shape(b_arr))\n",
    "# # n_cl = len(np.unique(b_arr))\n",
    "# # print(f'- Number of LC classes: {n_cl}')"
   ]
  },
  {
   "cell_type": "code",
   "execution_count": 12,
   "metadata": {},
   "outputs": [],
   "source": [
    "# Run the function for testing\n",
    "assert pixel_to_coords(b_g_10m, 100, 100) == (-121.8056363767779, 40.63567108385486)"
   ]
  },
  {
   "cell_type": "markdown",
   "metadata": {
    "tags": []
   },
   "source": [
    "### Generate (fixed) random sample of image coordinates "
   ]
  },
  {
   "cell_type": "code",
   "execution_count": 13,
   "metadata": {},
   "outputs": [
    {
     "data": {
      "text/plain": [
       "array([[7271,  861],\n",
       "       [5391, 5192],\n",
       "       [5735, 6266],\n",
       "       [ 467, 4427],\n",
       "       [5579, 8323]])"
      ]
     },
     "execution_count": 13,
     "metadata": {},
     "output_type": "execute_result"
    }
   ],
   "source": [
    "# Define number of pixels \n",
    "no_pixels = 500 \n",
    "np.random.seed(42) # keep this fixed \n",
    "\n",
    "# Generate array representing the pair of coordinates \n",
    "# xy = np.random.randint(1, np.shape(b_arr)[0], size=(no_pixels, 2))\n",
    "xy = np.random.randint(1, 10980, size=(no_pixels, 2))\n",
    "\n",
    "xy[:5]"
   ]
  },
  {
   "cell_type": "markdown",
   "metadata": {},
   "source": [
    "### Extract values of a specific band for each pair of coordinates"
   ]
  },
  {
   "cell_type": "code",
   "execution_count": 14,
   "metadata": {},
   "outputs": [],
   "source": [
    "band = 'SCL'"
   ]
  },
  {
   "cell_type": "code",
   "execution_count": 15,
   "metadata": {},
   "outputs": [
    {
     "name": "stdout",
     "output_type": "stream",
     "text": [
      "Working on band: SCL\n"
     ]
    }
   ],
   "source": [
    "print('Working on band:', band)\n",
    "\n",
    "# Open gdal object and get raster band\n",
    "b_g = gdal.Open(item.assets[band].href)\n",
    "b_rst = b_g.GetRasterBand(1)"
   ]
  },
  {
   "cell_type": "code",
   "execution_count": 16,
   "metadata": {},
   "outputs": [
    {
     "name": "stdout",
     "output_type": "stream",
     "text": [
      "Extracting values\n",
      "Rescaling to res = 20m\n",
      "[[-120.96012778569894, 40.55527781468857], [-121.19251157034941, 40.168990282416786], [-121.15474969268766, 40.0716397686962], [-121.7693750098431, 40.24548034397307], [-121.177963156973, 39.88669153535598], [-121.61937653607472, 40.57323757988562], [-120.58869608519073, 39.999619134722295], [-121.53988808239271, 40.163082567554305], [-121.23516902776696, 40.058929293462704], [-121.68520356464738, 40.232932915840905]]\n",
      "[4, 4, 4, 4, 6, 4, 4, 4, 5, 5]\n"
     ]
    }
   ],
   "source": [
    "print('Extracting values')\n",
    "x_values = []\n",
    "y_values = []\n",
    "\n",
    "if b_g.GetGeoTransform()[1] == 10:\n",
    "    print(\"res = 10m, no need to rescale\")\n",
    "    \n",
    "    for pos in xy:\n",
    "\n",
    "        x_values.append([*pixel_to_coords(b_g_10m, pos[0], pos[1])])\n",
    "\n",
    "        y_values.append(\n",
    "            int(\n",
    "                b_rst.ReadAsArray(\n",
    "                    xoff=int(pos[0]), yoff=int(pos[1]), win_xsize=1, win_ysize=1\n",
    "                )[0][0]\n",
    "            )\n",
    "        )\n",
    "\n",
    "elif b_g.GetGeoTransform()[1] == 20:\n",
    "    print(\"Rescaling to res = 20m\")\n",
    "    \n",
    "    # Need to find the pixel index of the raster which shape is half the size of the high res band, so need to divide by a factor of 2\n",
    "    xy2 = np.round(xy/2, 0)\n",
    "    \n",
    "    for pos,pos2 in zip(xy,xy2):\n",
    "\n",
    "        x_values.append([*pixel_to_coords(b_g_10m, pos[0], pos[1])]) # b_g must be the same as the pair of coordinates must be the same for all bands \n",
    "\n",
    "        y_values.append(\n",
    "            int(\n",
    "                b_rst.ReadAsArray(\n",
    "                    xoff=int(pos2[0]), yoff=int(pos2[1]), win_xsize=1, win_ysize=1\n",
    "                )[0][0]\n",
    "            )\n",
    "        )\n",
    "\n",
    "# Empty b_rst\n",
    "b_rst = None\n",
    "\n",
    "print(x_values[:10])\n",
    "print(y_values[:10])"
   ]
  },
  {
   "cell_type": "code",
   "execution_count": null,
   "metadata": {},
   "outputs": [],
   "source": []
  },
  {
   "cell_type": "markdown",
   "metadata": {},
   "source": [
    "## Make Pandas dataframe\n",
    "**Note**: The *pandas* dataframe will be used as input for the EDA Notebook from the ARSET training."
   ]
  },
  {
   "cell_type": "code",
   "execution_count": 17,
   "metadata": {},
   "outputs": [],
   "source": [
    "# make dictionary\n",
    "data = {'long': [x[0] for x in x_values], \n",
    "        'lat': [x[1] for x in x_values], \n",
    "        band: y_values}\n",
    "# data"
   ]
  },
  {
   "cell_type": "code",
   "execution_count": 18,
   "metadata": {},
   "outputs": [
    {
     "name": "stdout",
     "output_type": "stream",
     "text": [
      "Creating Dataframe\n"
     ]
    },
    {
     "data": {
      "text/html": [
       "<div>\n",
       "<style scoped>\n",
       "    .dataframe tbody tr th:only-of-type {\n",
       "        vertical-align: middle;\n",
       "    }\n",
       "\n",
       "    .dataframe tbody tr th {\n",
       "        vertical-align: top;\n",
       "    }\n",
       "\n",
       "    .dataframe thead th {\n",
       "        text-align: right;\n",
       "    }\n",
       "</style>\n",
       "<table border=\"1\" class=\"dataframe\">\n",
       "  <thead>\n",
       "    <tr style=\"text-align: right;\">\n",
       "      <th></th>\n",
       "      <th>long</th>\n",
       "      <th>lat</th>\n",
       "      <th>SCL</th>\n",
       "    </tr>\n",
       "    <tr>\n",
       "      <th>Index</th>\n",
       "      <th></th>\n",
       "      <th></th>\n",
       "      <th></th>\n",
       "    </tr>\n",
       "  </thead>\n",
       "  <tbody>\n",
       "    <tr>\n",
       "      <th>0</th>\n",
       "      <td>-120.960128</td>\n",
       "      <td>40.555278</td>\n",
       "      <td>4</td>\n",
       "    </tr>\n",
       "    <tr>\n",
       "      <th>1</th>\n",
       "      <td>-121.192512</td>\n",
       "      <td>40.168990</td>\n",
       "      <td>4</td>\n",
       "    </tr>\n",
       "    <tr>\n",
       "      <th>2</th>\n",
       "      <td>-121.154750</td>\n",
       "      <td>40.071640</td>\n",
       "      <td>4</td>\n",
       "    </tr>\n",
       "    <tr>\n",
       "      <th>3</th>\n",
       "      <td>-121.769375</td>\n",
       "      <td>40.245480</td>\n",
       "      <td>4</td>\n",
       "    </tr>\n",
       "    <tr>\n",
       "      <th>4</th>\n",
       "      <td>-121.177963</td>\n",
       "      <td>39.886692</td>\n",
       "      <td>6</td>\n",
       "    </tr>\n",
       "    <tr>\n",
       "      <th>...</th>\n",
       "      <td>...</td>\n",
       "      <td>...</td>\n",
       "      <td>...</td>\n",
       "    </tr>\n",
       "    <tr>\n",
       "      <th>495</th>\n",
       "      <td>-120.577296</td>\n",
       "      <td>40.370247</td>\n",
       "      <td>5</td>\n",
       "    </tr>\n",
       "    <tr>\n",
       "      <th>496</th>\n",
       "      <td>-121.487336</td>\n",
       "      <td>40.461230</td>\n",
       "      <td>5</td>\n",
       "    </tr>\n",
       "    <tr>\n",
       "      <th>497</th>\n",
       "      <td>-120.619159</td>\n",
       "      <td>40.311844</td>\n",
       "      <td>4</td>\n",
       "    </tr>\n",
       "    <tr>\n",
       "      <th>498</th>\n",
       "      <td>-120.740778</td>\n",
       "      <td>39.909446</td>\n",
       "      <td>4</td>\n",
       "    </tr>\n",
       "    <tr>\n",
       "      <th>499</th>\n",
       "      <td>-121.627961</td>\n",
       "      <td>40.621445</td>\n",
       "      <td>4</td>\n",
       "    </tr>\n",
       "  </tbody>\n",
       "</table>\n",
       "<p>500 rows × 3 columns</p>\n",
       "</div>"
      ],
      "text/plain": [
       "             long        lat  SCL\n",
       "Index                            \n",
       "0     -120.960128  40.555278    4\n",
       "1     -121.192512  40.168990    4\n",
       "2     -121.154750  40.071640    4\n",
       "3     -121.769375  40.245480    4\n",
       "4     -121.177963  39.886692    6\n",
       "...           ...        ...  ...\n",
       "495   -120.577296  40.370247    5\n",
       "496   -121.487336  40.461230    5\n",
       "497   -120.619159  40.311844    4\n",
       "498   -120.740778  39.909446    4\n",
       "499   -121.627961  40.621445    4\n",
       "\n",
       "[500 rows x 3 columns]"
      ]
     },
     "metadata": {},
     "output_type": "display_data"
    }
   ],
   "source": [
    "if df is None: \n",
    "    print('Creating Dataframe')\n",
    "    # Create a DataFrame from the dictionary\n",
    "    df = pd.DataFrame(data)\n",
    "    df.index.name = 'Index'\n",
    "    \n",
    "    # Create backup\n",
    "    data_bk = copy.deepcopy(df)\n",
    "\n",
    "else: \n",
    "    print('Adding to existing Dataframe')\n",
    "    \n",
    "    # Create temp dataframe\n",
    "    df2 = pd.DataFrame(data)\n",
    "    df2.index.name = 'Index'\n",
    "    \n",
    "    # Assert the two dataframes have the same long and lat values\n",
    "    assert df['long'].isin(df2['long']).value_counts().values[0] == no_pixels\n",
    "    assert df['lat'].isin(df2['lat']).value_counts().values[0] == no_pixels\n",
    "    \n",
    "    # Merge temp dataframe with original dataframe, based on matching columns\n",
    "    df = pd.merge(df, df2, on=['Index', 'long', 'lat'])   \n",
    "    # Empty memory\n",
    "    df2 = None\n",
    "    \n",
    "display(df)"
   ]
  },
  {
   "cell_type": "code",
   "execution_count": 80,
   "metadata": {},
   "outputs": [],
   "source": [
    "# Export dataframe \n",
    "df.to_csv('dataframe_multiband.csv')"
   ]
  },
  {
   "cell_type": "markdown",
   "metadata": {},
   "source": [
    "## Split dataset into train and validation"
   ]
  },
  {
   "cell_type": "code",
   "execution_count": 27,
   "metadata": {},
   "outputs": [],
   "source": [
    "def to_geojson(t, x, y):\n",
    "    \"\"\"Converts the given x, y, and split dataset type (train, test, validate ) to a geojson file\n",
    "    The geojson file is saved in the current directory with the name label-{t}.geojson\n",
    "    \"\"\"\n",
    "\n",
    "    field_name = \"class\"\n",
    "    field_type = ogr.OFTInteger\n",
    "\n",
    "    # Create the output Driver\n",
    "    out_driver = ogr.GetDriverByName(\"GeoJSON\")\n",
    "\n",
    "    geojson_filename = f\"label-{t}.geojson\"\n",
    "    # Create the output GeoJSON\n",
    "    out_datasource = out_driver.CreateDataSource(geojson_filename)\n",
    "    out_layer = out_datasource.CreateLayer(\"labels\", geom_type=ogr.wkbPolygon)\n",
    "    id_field = ogr.FieldDefn(field_name, field_type)\n",
    "    out_layer.CreateField(id_field)\n",
    "    # Get the output Layer's Feature Definition\n",
    "    feature_def = out_layer.GetLayerDefn()\n",
    "\n",
    "    for index, v in enumerate(y):\n",
    "        point = ogr.Geometry(ogr.wkbPoint)\n",
    "        point.AddPoint(x[index][0], x[index][1])\n",
    "\n",
    "        # create a new feature\n",
    "        out_feature = ogr.Feature(feature_def)\n",
    "\n",
    "        # Set new geometry\n",
    "        out_feature.SetGeometry(point)\n",
    "\n",
    "        out_feature.SetField(field_name, int(v))\n",
    "        # Add new feature to output Layer\n",
    "        out_layer.CreateFeature(out_feature)\n",
    "\n",
    "        # dereference the feature\n",
    "        out_feature = None\n",
    "\n",
    "    # Save and close DataSources\n",
    "    out_datasource = None"
   ]
  },
  {
   "cell_type": "markdown",
   "metadata": {},
   "source": [
    "### Test with 1 variable "
   ]
  },
  {
   "cell_type": "code",
   "execution_count": 28,
   "metadata": {},
   "outputs": [
    {
     "data": {
      "text/plain": [
       "[[-120.96012778569894, 40.55527781468857],\n",
       " [-121.19251157034941, 40.168990282416786],\n",
       " [-121.15474969268766, 40.0716397686962],\n",
       " [-121.7693750098431, 40.24548034397307],\n",
       " [-121.177963156973, 39.88669153535598],\n",
       " [-121.61937653607472, 40.57323757988562],\n",
       " [-120.58869608519073, 39.999619134722295],\n",
       " [-121.53988808239271, 40.163082567554305],\n",
       " [-121.23516902776696, 40.058929293462704],\n",
       " [-121.68520356464738, 40.232932915840905]]"
      ]
     },
     "execution_count": 28,
     "metadata": {},
     "output_type": "execute_result"
    }
   ],
   "source": [
    "x_values[:10]"
   ]
  },
  {
   "cell_type": "code",
   "execution_count": 32,
   "metadata": {},
   "outputs": [
    {
     "data": {
      "text/plain": [
       "[1732, 1817, 2655, 1985, 169, 2754, 2078, 2985, 2103, 2746]"
      ]
     },
     "execution_count": 32,
     "metadata": {},
     "output_type": "execute_result"
    }
   ],
   "source": [
    "y_values[:10]"
   ]
  },
  {
   "cell_type": "code",
   "execution_count": 35,
   "metadata": {},
   "outputs": [
    {
     "name": "stdout",
     "output_type": "stream",
     "text": [
      "500 500\n"
     ]
    }
   ],
   "source": [
    "assert len(x_values) == len(y_values)\n",
    "print(len(x_values), len(y_values))"
   ]
  },
  {
   "cell_type": "code",
   "execution_count": 37,
   "metadata": {},
   "outputs": [
    {
     "name": "stdout",
     "output_type": "stream",
     "text": [
      "400 400\n",
      "100 100\n"
     ]
    }
   ],
   "source": [
    "x_train, x_rem, y_train, y_rem = train_test_split(\n",
    "    np.array(x_values), np.array(y_values), train_size=0.8\n",
    ")\n",
    "print(len(x_train),len(y_train))\n",
    "print(len(x_rem),len(y_rem))"
   ]
  },
  {
   "cell_type": "code",
   "execution_count": 38,
   "metadata": {},
   "outputs": [
    {
     "name": "stdout",
     "output_type": "stream",
     "text": [
      "50 50\n",
      "50 50\n"
     ]
    }
   ],
   "source": [
    "x_valid, x_test, y_valid, y_test = train_test_split(\n",
    "    np.array(x_rem), np.array(y_rem), test_size=0.5\n",
    ")\n",
    "print(len(x_valid),len(y_valid))\n",
    "print(len(x_test),len(y_test))"
   ]
  },
  {
   "cell_type": "code",
   "execution_count": 39,
   "metadata": {},
   "outputs": [
    {
     "data": {
      "text/plain": [
       "((50, 2), (400, 2), (50, 2))"
      ]
     },
     "execution_count": 39,
     "metadata": {},
     "output_type": "execute_result"
    }
   ],
   "source": [
    "x_valid.shape, x_train.shape, x_test.shape"
   ]
  },
  {
   "cell_type": "code",
   "execution_count": 40,
   "metadata": {},
   "outputs": [
    {
     "data": {
      "text/plain": [
       "((50,), (400,), (50,))"
      ]
     },
     "execution_count": 40,
     "metadata": {},
     "output_type": "execute_result"
    }
   ],
   "source": [
    "y_valid.shape, y_train.shape, y_test.shape"
   ]
  },
  {
   "cell_type": "code",
   "execution_count": null,
   "metadata": {},
   "outputs": [],
   "source": [
    "to_geojson(f\"train\", x_train, y_train)\n",
    "# to_geojson(f\"test\", x_test, y_test)\n",
    "# to_geojson(f\"validate\", x_valid, y_valid)"
   ]
  },
  {
   "cell_type": "code",
   "execution_count": null,
   "metadata": {},
   "outputs": [],
   "source": []
  },
  {
   "cell_type": "code",
   "execution_count": null,
   "metadata": {},
   "outputs": [],
   "source": []
  },
  {
   "cell_type": "markdown",
   "metadata": {},
   "source": [
    "### Test with multiple variables (one geojson per variable)"
   ]
  },
  {
   "cell_type": "code",
   "execution_count": 19,
   "metadata": {},
   "outputs": [
    {
     "data": {
      "text/html": [
       "<div>\n",
       "<style scoped>\n",
       "    .dataframe tbody tr th:only-of-type {\n",
       "        vertical-align: middle;\n",
       "    }\n",
       "\n",
       "    .dataframe tbody tr th {\n",
       "        vertical-align: top;\n",
       "    }\n",
       "\n",
       "    .dataframe thead th {\n",
       "        text-align: right;\n",
       "    }\n",
       "</style>\n",
       "<table border=\"1\" class=\"dataframe\">\n",
       "  <thead>\n",
       "    <tr style=\"text-align: right;\">\n",
       "      <th></th>\n",
       "      <th>Index</th>\n",
       "      <th>long</th>\n",
       "      <th>lat</th>\n",
       "      <th>B04</th>\n",
       "      <th>B02</th>\n",
       "      <th>SCL</th>\n",
       "      <th>B03</th>\n",
       "      <th>B08</th>\n",
       "    </tr>\n",
       "  </thead>\n",
       "  <tbody>\n",
       "    <tr>\n",
       "      <th>0</th>\n",
       "      <td>0</td>\n",
       "      <td>-120.960128</td>\n",
       "      <td>40.555278</td>\n",
       "      <td>510</td>\n",
       "      <td>291</td>\n",
       "      <td>4</td>\n",
       "      <td>452</td>\n",
       "      <td>1732</td>\n",
       "    </tr>\n",
       "    <tr>\n",
       "      <th>1</th>\n",
       "      <td>1</td>\n",
       "      <td>-121.192512</td>\n",
       "      <td>40.168990</td>\n",
       "      <td>394</td>\n",
       "      <td>250</td>\n",
       "      <td>4</td>\n",
       "      <td>378</td>\n",
       "      <td>1817</td>\n",
       "    </tr>\n",
       "    <tr>\n",
       "      <th>2</th>\n",
       "      <td>2</td>\n",
       "      <td>-121.154750</td>\n",
       "      <td>40.071640</td>\n",
       "      <td>369</td>\n",
       "      <td>230</td>\n",
       "      <td>4</td>\n",
       "      <td>521</td>\n",
       "      <td>2655</td>\n",
       "    </tr>\n",
       "    <tr>\n",
       "      <th>3</th>\n",
       "      <td>3</td>\n",
       "      <td>-121.769375</td>\n",
       "      <td>40.245480</td>\n",
       "      <td>241</td>\n",
       "      <td>183</td>\n",
       "      <td>4</td>\n",
       "      <td>295</td>\n",
       "      <td>1985</td>\n",
       "    </tr>\n",
       "    <tr>\n",
       "      <th>4</th>\n",
       "      <td>4</td>\n",
       "      <td>-121.177963</td>\n",
       "      <td>39.886692</td>\n",
       "      <td>220</td>\n",
       "      <td>258</td>\n",
       "      <td>6</td>\n",
       "      <td>258</td>\n",
       "      <td>169</td>\n",
       "    </tr>\n",
       "    <tr>\n",
       "      <th>...</th>\n",
       "      <td>...</td>\n",
       "      <td>...</td>\n",
       "      <td>...</td>\n",
       "      <td>...</td>\n",
       "      <td>...</td>\n",
       "      <td>...</td>\n",
       "      <td>...</td>\n",
       "      <td>...</td>\n",
       "    </tr>\n",
       "    <tr>\n",
       "      <th>495</th>\n",
       "      <td>495</td>\n",
       "      <td>-120.577296</td>\n",
       "      <td>40.370247</td>\n",
       "      <td>1352</td>\n",
       "      <td>819</td>\n",
       "      <td>5</td>\n",
       "      <td>1046</td>\n",
       "      <td>2016</td>\n",
       "    </tr>\n",
       "    <tr>\n",
       "      <th>496</th>\n",
       "      <td>496</td>\n",
       "      <td>-121.487336</td>\n",
       "      <td>40.461230</td>\n",
       "      <td>600</td>\n",
       "      <td>384</td>\n",
       "      <td>5</td>\n",
       "      <td>642</td>\n",
       "      <td>2425</td>\n",
       "    </tr>\n",
       "    <tr>\n",
       "      <th>497</th>\n",
       "      <td>497</td>\n",
       "      <td>-120.619159</td>\n",
       "      <td>40.311844</td>\n",
       "      <td>270</td>\n",
       "      <td>235</td>\n",
       "      <td>4</td>\n",
       "      <td>365</td>\n",
       "      <td>2310</td>\n",
       "    </tr>\n",
       "    <tr>\n",
       "      <th>498</th>\n",
       "      <td>498</td>\n",
       "      <td>-120.740778</td>\n",
       "      <td>39.909446</td>\n",
       "      <td>352</td>\n",
       "      <td>108</td>\n",
       "      <td>4</td>\n",
       "      <td>346</td>\n",
       "      <td>1752</td>\n",
       "    </tr>\n",
       "    <tr>\n",
       "      <th>499</th>\n",
       "      <td>499</td>\n",
       "      <td>-121.627961</td>\n",
       "      <td>40.621445</td>\n",
       "      <td>432</td>\n",
       "      <td>287</td>\n",
       "      <td>4</td>\n",
       "      <td>432</td>\n",
       "      <td>2330</td>\n",
       "    </tr>\n",
       "  </tbody>\n",
       "</table>\n",
       "<p>500 rows × 8 columns</p>\n",
       "</div>"
      ],
      "text/plain": [
       "     Index        long        lat   B04  B02  SCL   B03   B08\n",
       "0        0 -120.960128  40.555278   510  291    4   452  1732\n",
       "1        1 -121.192512  40.168990   394  250    4   378  1817\n",
       "2        2 -121.154750  40.071640   369  230    4   521  2655\n",
       "3        3 -121.769375  40.245480   241  183    4   295  1985\n",
       "4        4 -121.177963  39.886692   220  258    6   258   169\n",
       "..     ...         ...        ...   ...  ...  ...   ...   ...\n",
       "495    495 -120.577296  40.370247  1352  819    5  1046  2016\n",
       "496    496 -121.487336  40.461230   600  384    5   642  2425\n",
       "497    497 -120.619159  40.311844   270  235    4   365  2310\n",
       "498    498 -120.740778  39.909446   352  108    4   346  1752\n",
       "499    499 -121.627961  40.621445   432  287    4   432  2330\n",
       "\n",
       "[500 rows x 8 columns]"
      ]
     },
     "execution_count": 19,
     "metadata": {},
     "output_type": "execute_result"
    }
   ],
   "source": [
    "# Read CSV file and make pandas dataframe\n",
    "df_pandas = pd.read_csv('dataframe_multiband.csv')\n",
    "df_pandas"
   ]
  },
  {
   "cell_type": "code",
   "execution_count": 42,
   "metadata": {},
   "outputs": [],
   "source": [
    "y_names = ['B02', 'B03', 'B04', 'B08', 'SCL']"
   ]
  },
  {
   "cell_type": "code",
   "execution_count": 53,
   "metadata": {},
   "outputs": [
    {
     "name": "stdout",
     "output_type": "stream",
     "text": [
      "Working on: B02\n",
      "Total # of values: 500 500\n",
      "# used for training: 400 400\n",
      "# residuals: 100 100\n",
      "# used for validation: 50 50\n",
      "# used for testing: 50 50\n",
      "x_shapes: (50, 2) (400, 2) (50, 2)\n",
      "y_shapes: (50,) (400,) (50,)\n",
      "\n",
      "Working on: B03\n",
      "Total # of values: 500 500\n",
      "# used for training: 400 400\n",
      "# residuals: 100 100\n",
      "# used for validation: 50 50\n",
      "# used for testing: 50 50\n",
      "x_shapes: (50, 2) (400, 2) (50, 2)\n",
      "y_shapes: (50,) (400,) (50,)\n",
      "\n",
      "Working on: B04\n",
      "Total # of values: 500 500\n",
      "# used for training: 400 400\n",
      "# residuals: 100 100\n",
      "# used for validation: 50 50\n",
      "# used for testing: 50 50\n",
      "x_shapes: (50, 2) (400, 2) (50, 2)\n",
      "y_shapes: (50,) (400,) (50,)\n",
      "\n",
      "Working on: B08\n",
      "Total # of values: 500 500\n",
      "# used for training: 400 400\n",
      "# residuals: 100 100\n",
      "# used for validation: 50 50\n",
      "# used for testing: 50 50\n",
      "x_shapes: (50, 2) (400, 2) (50, 2)\n",
      "y_shapes: (50,) (400,) (50,)\n",
      "\n",
      "Working on: SCL\n",
      "Total # of values: 500 500\n",
      "# used for training: 400 400\n",
      "# residuals: 100 100\n",
      "# used for validation: 50 50\n",
      "# used for testing: 50 50\n",
      "x_shapes: (50, 2) (400, 2) (50, 2)\n",
      "y_shapes: (50,) (400,) (50,)\n",
      "\n"
     ]
    }
   ],
   "source": [
    "for y_name in y_names:\n",
    "    print('Working on:', y_name)\n",
    "    \n",
    "    y_values = df_pandas[y_name].values\n",
    "    assert len(x_values) == len(y_values)\n",
    "    print('Total # of values:', len(x_values), len(y_values))\n",
    "    \n",
    "    # Training \n",
    "    x_train, x_rem, y_train, y_rem = train_test_split(\n",
    "        np.array(x_values), np.array(y_values), train_size=0.8\n",
    "    )\n",
    "    print('# used for training:', len(x_train),len(y_train))\n",
    "    print('# residuals:', len(x_rem),len(y_rem))\n",
    "    \n",
    "    # Testing and Validation\n",
    "    x_valid, x_test, y_valid, y_test = train_test_split(\n",
    "        np.array(x_rem), np.array(y_rem), test_size=0.5\n",
    "    )\n",
    "    print('# used for validation:', len(x_valid),len(y_valid))\n",
    "    print('# used for testing:', len(x_test),len(y_test))\n",
    "    \n",
    "    print('x_shapes:', x_valid.shape, x_train.shape, x_test.shape)\n",
    "    print('y_shapes:', y_valid.shape, y_train.shape, y_test.shape)\n",
    "    \n",
    "    # Now creating the geojson files\n",
    "    to_geojson(f\"train_{y_name}\", x_train, y_train)\n",
    "    # to_geojson(f\"test_{y_name}\", x_test, y_test)\n",
    "    # to_geojson(f\"validate_{y_name}\", x_valid, y_valid)\n",
    "    print()"
   ]
  },
  {
   "cell_type": "code",
   "execution_count": 26,
   "metadata": {},
   "outputs": [],
   "source": []
  },
  {
   "cell_type": "markdown",
   "metadata": {},
   "source": [
    "### Test with multiple variables in unique geojson"
   ]
  },
  {
   "cell_type": "code",
   "execution_count": 45,
   "metadata": {},
   "outputs": [
    {
     "data": {
      "text/html": [
       "<div>\n",
       "<style scoped>\n",
       "    .dataframe tbody tr th:only-of-type {\n",
       "        vertical-align: middle;\n",
       "    }\n",
       "\n",
       "    .dataframe tbody tr th {\n",
       "        vertical-align: top;\n",
       "    }\n",
       "\n",
       "    .dataframe thead th {\n",
       "        text-align: right;\n",
       "    }\n",
       "</style>\n",
       "<table border=\"1\" class=\"dataframe\">\n",
       "  <thead>\n",
       "    <tr style=\"text-align: right;\">\n",
       "      <th></th>\n",
       "      <th>Index</th>\n",
       "      <th>long</th>\n",
       "      <th>lat</th>\n",
       "      <th>B04</th>\n",
       "      <th>B02</th>\n",
       "      <th>SCL</th>\n",
       "      <th>B03</th>\n",
       "      <th>B08</th>\n",
       "    </tr>\n",
       "  </thead>\n",
       "  <tbody>\n",
       "    <tr>\n",
       "      <th>0</th>\n",
       "      <td>0</td>\n",
       "      <td>-120.960128</td>\n",
       "      <td>40.555278</td>\n",
       "      <td>510</td>\n",
       "      <td>291</td>\n",
       "      <td>4</td>\n",
       "      <td>452</td>\n",
       "      <td>1732</td>\n",
       "    </tr>\n",
       "    <tr>\n",
       "      <th>1</th>\n",
       "      <td>1</td>\n",
       "      <td>-121.192512</td>\n",
       "      <td>40.168990</td>\n",
       "      <td>394</td>\n",
       "      <td>250</td>\n",
       "      <td>4</td>\n",
       "      <td>378</td>\n",
       "      <td>1817</td>\n",
       "    </tr>\n",
       "    <tr>\n",
       "      <th>2</th>\n",
       "      <td>2</td>\n",
       "      <td>-121.154750</td>\n",
       "      <td>40.071640</td>\n",
       "      <td>369</td>\n",
       "      <td>230</td>\n",
       "      <td>4</td>\n",
       "      <td>521</td>\n",
       "      <td>2655</td>\n",
       "    </tr>\n",
       "    <tr>\n",
       "      <th>3</th>\n",
       "      <td>3</td>\n",
       "      <td>-121.769375</td>\n",
       "      <td>40.245480</td>\n",
       "      <td>241</td>\n",
       "      <td>183</td>\n",
       "      <td>4</td>\n",
       "      <td>295</td>\n",
       "      <td>1985</td>\n",
       "    </tr>\n",
       "    <tr>\n",
       "      <th>4</th>\n",
       "      <td>4</td>\n",
       "      <td>-121.177963</td>\n",
       "      <td>39.886692</td>\n",
       "      <td>220</td>\n",
       "      <td>258</td>\n",
       "      <td>6</td>\n",
       "      <td>258</td>\n",
       "      <td>169</td>\n",
       "    </tr>\n",
       "    <tr>\n",
       "      <th>...</th>\n",
       "      <td>...</td>\n",
       "      <td>...</td>\n",
       "      <td>...</td>\n",
       "      <td>...</td>\n",
       "      <td>...</td>\n",
       "      <td>...</td>\n",
       "      <td>...</td>\n",
       "      <td>...</td>\n",
       "    </tr>\n",
       "    <tr>\n",
       "      <th>495</th>\n",
       "      <td>495</td>\n",
       "      <td>-120.577296</td>\n",
       "      <td>40.370247</td>\n",
       "      <td>1352</td>\n",
       "      <td>819</td>\n",
       "      <td>5</td>\n",
       "      <td>1046</td>\n",
       "      <td>2016</td>\n",
       "    </tr>\n",
       "    <tr>\n",
       "      <th>496</th>\n",
       "      <td>496</td>\n",
       "      <td>-121.487336</td>\n",
       "      <td>40.461230</td>\n",
       "      <td>600</td>\n",
       "      <td>384</td>\n",
       "      <td>5</td>\n",
       "      <td>642</td>\n",
       "      <td>2425</td>\n",
       "    </tr>\n",
       "    <tr>\n",
       "      <th>497</th>\n",
       "      <td>497</td>\n",
       "      <td>-120.619159</td>\n",
       "      <td>40.311844</td>\n",
       "      <td>270</td>\n",
       "      <td>235</td>\n",
       "      <td>4</td>\n",
       "      <td>365</td>\n",
       "      <td>2310</td>\n",
       "    </tr>\n",
       "    <tr>\n",
       "      <th>498</th>\n",
       "      <td>498</td>\n",
       "      <td>-120.740778</td>\n",
       "      <td>39.909446</td>\n",
       "      <td>352</td>\n",
       "      <td>108</td>\n",
       "      <td>4</td>\n",
       "      <td>346</td>\n",
       "      <td>1752</td>\n",
       "    </tr>\n",
       "    <tr>\n",
       "      <th>499</th>\n",
       "      <td>499</td>\n",
       "      <td>-121.627961</td>\n",
       "      <td>40.621445</td>\n",
       "      <td>432</td>\n",
       "      <td>287</td>\n",
       "      <td>4</td>\n",
       "      <td>432</td>\n",
       "      <td>2330</td>\n",
       "    </tr>\n",
       "  </tbody>\n",
       "</table>\n",
       "<p>500 rows × 8 columns</p>\n",
       "</div>"
      ],
      "text/plain": [
       "     Index        long        lat   B04  B02  SCL   B03   B08\n",
       "0        0 -120.960128  40.555278   510  291    4   452  1732\n",
       "1        1 -121.192512  40.168990   394  250    4   378  1817\n",
       "2        2 -121.154750  40.071640   369  230    4   521  2655\n",
       "3        3 -121.769375  40.245480   241  183    4   295  1985\n",
       "4        4 -121.177963  39.886692   220  258    6   258   169\n",
       "..     ...         ...        ...   ...  ...  ...   ...   ...\n",
       "495    495 -120.577296  40.370247  1352  819    5  1046  2016\n",
       "496    496 -121.487336  40.461230   600  384    5   642  2425\n",
       "497    497 -120.619159  40.311844   270  235    4   365  2310\n",
       "498    498 -120.740778  39.909446   352  108    4   346  1752\n",
       "499    499 -121.627961  40.621445   432  287    4   432  2330\n",
       "\n",
       "[500 rows x 8 columns]"
      ]
     },
     "execution_count": 45,
     "metadata": {},
     "output_type": "execute_result"
    }
   ],
   "source": [
    "df_pandas"
   ]
  },
  {
   "cell_type": "code",
   "execution_count": 63,
   "metadata": {},
   "outputs": [],
   "source": [
    "y_val = df_pandas['SCL']#.values"
   ]
  },
  {
   "cell_type": "code",
   "execution_count": 64,
   "metadata": {},
   "outputs": [],
   "source": [
    "X = df_pandas[['long', 'lat', 'B02', 'B03', 'B04', 'B08']]"
   ]
  },
  {
   "cell_type": "code",
   "execution_count": 78,
   "metadata": {
    "tags": []
   },
   "outputs": [
    {
     "name": "stdout",
     "output_type": "stream",
     "text": [
      "# used for training: 400\n",
      "# residuals: 100\n"
     ]
    }
   ],
   "source": [
    "# Training (directly from dataframe)\n",
    "\n",
    "# x_train, x_rem, y_train, y_rem = train_test_split(\n",
    "#         np.array(x_values), np.array(y_values), train_size=0.8\n",
    "#     )\n",
    "\n",
    "long_train, long_rem, lat_train, lat_rem, B02_train, B02_rem, B03_train, B03_rem, B04_train, B04_rem, B08_train, B08_rem, SCL_train, SCL_rem = train_test_split(X['long'], X['lat'], X['B02'], X['B03'], X['B04'], X['B08'], y_val, train_size=0.8, random_state=42)\n",
    "print('# used for training:', len(long_train))\n",
    "print('# residuals:', len(long_rem))"
   ]
  },
  {
   "cell_type": "code",
   "execution_count": 88,
   "metadata": {},
   "outputs": [
    {
     "name": "stdout",
     "output_type": "stream",
     "text": [
      "# used for validation: 50\n",
      "# used for testing: 50\n"
     ]
    }
   ],
   "source": [
    "# Testing and Validation\n",
    "\n",
    "# x_valid, x_test, y_valid, y_test = train_test_split(\n",
    "#     np.array(x_rem), np.array(y_rem), test_size=0.5\n",
    "# )\n",
    "\n",
    "long_valid, long_test, lat_valid, lat_test, B02_valid, B02_test, B03_valid, B03_test, B04_valid, B04_test, B08_valid, B08_test, SCL_valid, SCL_test = train_test_split(long_rem, lat_rem, B02_rem, B03_rem, B04_rem, B08_rem, SCL_rem, train_size=0.5)\n",
    "\n",
    "print('# used for validation:', len(long_valid))\n",
    "print('# used for testing:', len(long_test))"
   ]
  },
  {
   "cell_type": "code",
   "execution_count": null,
   "metadata": {},
   "outputs": [],
   "source": []
  },
  {
   "cell_type": "code",
   "execution_count": null,
   "metadata": {},
   "outputs": [],
   "source": []
  },
  {
   "cell_type": "code",
   "execution_count": null,
   "metadata": {},
   "outputs": [],
   "source": []
  },
  {
   "cell_type": "code",
   "execution_count": null,
   "metadata": {},
   "outputs": [],
   "source": []
  },
  {
   "cell_type": "code",
   "execution_count": null,
   "metadata": {},
   "outputs": [],
   "source": []
  }
 ],
 "metadata": {
  "kernelspec": {
   "display_name": "Python [conda env:.conda-env_labels_light]",
   "language": "python",
   "name": "conda-env-.conda-env_labels_light-py"
  },
  "language_info": {
   "codemirror_mode": {
    "name": "ipython",
    "version": 3
   },
   "file_extension": ".py",
   "mimetype": "text/x-python",
   "name": "python",
   "nbconvert_exporter": "python",
   "pygments_lexer": "ipython3",
   "version": "3.11.4"
  }
 },
 "nbformat": 4,
 "nbformat_minor": 4
}
